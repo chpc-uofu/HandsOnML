{
 "cells": [
  {
   "cell_type": "markdown",
   "id": "6580417c-c733-4e65-8088-f3987aa439cc",
   "metadata": {},
   "source": [
    "# Some statistical terminology"
   ]
  },
  {
   "cell_type": "markdown",
   "id": "3cd1a695-20fb-46c8-bfea-1bd7a581f344",
   "metadata": {},
   "source": [
    "## Statistic\n",
    "Let $X_1, X_2,\\ldots,X_n$ be a random sample from a population.\n",
    "\n",
    "A <font color=\"green\"><b>statistic</b></font> is:\n",
    "* a function of the sample data\n",
    "* does not depend on any unknown parameters\n",
    "\n",
    "A few examples of `statistics`:\n",
    "- Sample mean    : $\\overline{X}= \\displaystyle \\frac{1}{n} \\sum_{i=1}^n X_i$\n",
    "- Sample variance: $S^2 = \\displaystyle \\frac{1}{n-1}\\sum_{i=1}^n (X_i -\\overline{X})^2$\n",
    "- Sample max     : $\\max(X_1,\\ldots, X_n)$\n",
    "- Sample range   : $\\max(X_1,\\ldots, X_n) - \\min(X_1,\\ldots, X_n)$"
   ]
  },
  {
   "cell_type": "markdown",
   "id": "0707a0cf-f345-4656-90e5-377da53e6bca",
   "metadata": {},
   "source": [
    "## Estimator\n",
    "Let $X_1, X_2,\\ldots,X_n$ be a random sample from a population with an unknown parameter $\\theta$.<br>\n",
    "The statistic $\\widehat{\\theta} = T(X_1, X_2,\\ldots,X_n)$ is an <font color=\"green\"><b>estimator</b></font> of $\\theta$.\n",
    "\n",
    "Examples:\n",
    "* $\\overline{X}= \\displaystyle \\frac{1}{n} \\sum_{i=1}^n X_i$ is an estimator of $\\mu$ (population mean)\n",
    "* $S^2 = \\displaystyle \\frac{1}{n-1}\\sum_{i=1}^n (X_i -\\overline{X})^2$ is an estimator of the population variance $\\sigma^2$"
   ]
  },
  {
   "cell_type": "markdown",
   "id": "8116f2f6-a049-4280-b929-0856efd5a2a1",
   "metadata": {},
   "source": [
    "## Bias of an estimator\n",
    "The <font color=\"green\"><b>bias of an estimator</b></font> is a measure for the distance between<br> the expected value of the \n",
    "estimator and the value of the parameter is it is estimating.\n",
    "\n",
    "Let $\\widehat{\\theta}$ be an estimator of the population parameter $\\theta$.\n",
    "Then the bias of $\\widehat{\\theta}$ is defined as:<br>\n",
    "$\\begin{eqnarray}\n",
    "   \\texttt{Bias}(\\widehat{\\theta}) & := & \\mathbb{E}[\\widehat{\\theta}] - \\theta\n",
    " \\end{eqnarray}$\n",
    " \n",
    "If the $\\texttt{Bias}(\\widehat{\\theta})=0$, we have an **unbiased** estimator.<br>\n",
    "Examples:<br>\n",
    "* $\\begin{eqnarray}\n",
    "  \\mathbb{E}[\\overline{X}] & = & \\displaystyle \\frac{1}{n} \\sum_{i=1}^n \\mathbb{E}[X_i] \\\\\n",
    "                           & = & \\mu\n",
    "  \\end{eqnarray}$\n",
    "  \n",
    "* $\\begin{eqnarray}\n",
    "   \\mathbb{E}[S^2] & = &  \\displaystyle \\mathbb{E}\\Bigg [\\frac{1}{n-1}\\sum_{i=1}^n (X_i -\\overline{X})^2 \\Bigg] \\\\\n",
    "                   & = &  \\displaystyle \\frac{1}{n-1} \\mathbb{E}\\Bigg [\\sum_{i=1}^n X_i^2 -n \\overline{X})^2 \\Bigg] \\\\\n",
    "                   & = &  \\displaystyle \\frac{1}{n-1} \\Big\\{ \\sum_{i=1}^n \\mathbb{E}[X_i^2] - n\\big(\\frac{\\sigma^2}{n} + \\mu^2 \\big)  \\Big\\} \\\\\n",
    "                   & = &   \\displaystyle \\frac{1}{n-1} \\Big\\{ n(\\mu^2 + \\sigma^2)  - n\\big(\\frac{\\sigma^2}{n} + \\mu^2 \\big)  \\Big\\} \\\\\n",
    "                   & = & \\sigma^2\n",
    "  \\end{eqnarray}$\n",
    "\n",
    "The estimators $\\overline{X}$ and $S^2$ are **unbiased**."
   ]
  },
  {
   "cell_type": "markdown",
   "id": "ccbbe0a0-9e50-41d1-9560-ea7ed309345b",
   "metadata": {},
   "source": [
    "## Variance of an estimator\n",
    "The <font color=\"green\"><b>variance of an estimator</b></font> is a measure for the spread<br>\n",
    "of the estimator's sampling distribution.\n",
    "\n",
    "Let $\\widehat{\\theta}$ be an estimator of the population parameter $\\theta$.<br>\n",
    "Then the variance of estimator $\\widehat{\\theta}$ is defined as:<br>\n",
    "$\\begin{eqnarray}\n",
    "   \\mathbb{V}[\\widehat{\\theta}] & = & \\displaystyle \\mathbb{E}\\Big[(\\widehat{\\theta} - \\mathbb{E}[\\widehat{\\theta}])^2 \\Big] \n",
    " \\end{eqnarray}$\n",
    "\n",
    "Examples:<br>\n",
    "* $\\begin{eqnarray}\n",
    "  \\mathbb{V}[\\overline{X}] & = & \\displaystyle \\mathbb{V} \\Bigg [ \\frac{1}{n} \\sum_{i=1}^n X_i \\Bigg] \\\\\n",
    "                           & = & \\frac{\\sigma^2}{n}\n",
    "  \\end{eqnarray}$\n",
    "  \n",
    "* $\\begin{eqnarray}\n",
    "   \\mathbb{V}[S^2] & = &  \\displaystyle \\frac{1}{n} \\Bigg ( \\mu_4 - \\frac{n-3}{n-1}\\sigma^4 \\Bigg)\n",
    "  \\end{eqnarray}$\n",
    "\n",
    "  where $\\mu_4 := \\mathbb{E}[(X_i - \\mu)^4]$."
   ]
  }
 ],
 "metadata": {
  "kernelspec": {
   "display_name": "Python 3 (ipykernel)",
   "language": "python",
   "name": "python3"
  },
  "language_info": {
   "codemirror_mode": {
    "name": "ipython",
    "version": 3
   },
   "file_extension": ".py",
   "mimetype": "text/x-python",
   "name": "python",
   "nbconvert_exporter": "python",
   "pygments_lexer": "ipython3",
   "version": "3.13.5"
  }
 },
 "nbformat": 4,
 "nbformat_minor": 5
}
