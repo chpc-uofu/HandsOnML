{
 "cells": [
  {
   "cell_type": "code",
   "execution_count": 1,
   "id": "34fb4769-d938-4c12-9a85-52317dad236f",
   "metadata": {},
   "outputs": [],
   "source": [
    "import os\n",
    "import numpy as np\n",
    "import matplotlib.pyplot as plt\n",
    "import scipy.stats as ss\n",
    "os.environ[\"KERAS_BACKEND\"] = \"torch\"\n",
    "import keras"
   ]
  },
  {
   "cell_type": "markdown",
   "id": "ae10e421-dff6-4ebe-9a23-2a8a9f726226",
   "metadata": {},
   "source": [
    "# Under construction\n",
    "<font color=\"red\"><b>Author: Wim R.M. Cardoen (wcardoen@gmail.com)</b></font><br>\n",
    "If you stumble by chance on this website and find errors, have comments/suggestions, please send \n",
    "an email to the author! Thanks.<br>"
   ]
  },
  {
   "cell_type": "markdown",
   "id": "5b53a679-01ae-4772-a474-9d8e2dec5dac",
   "metadata": {},
   "source": [
    "# Hands-on Introduction to Deep Learning (Lecture 2)\n",
    "\n",
    "## Synopsis  \n",
    "In <a href=\"./lecture1.ipynb\"><b>Lecture 1</b></a>, we worked out the details of <font color=\"green\"><b>logistic regression</b></font> as\n",
    "the simplest neural net.<br>\n",
    "We introduced the following concepts:\n",
    "* **neuron** (`perceptron`)\n",
    "* **activation function** (`sigmoid`)\n",
    "* **loss function** (metric to optimize the neural net) for `binary classification`\n",
    "* **gradient descent method** (`optimization` of the weights and biases)\n",
    "* **forward propagation** (moving forward from the input to the loss function)\n",
    "* **backward propagation** (moving backwards from the loss function to the inputs to calculate the gradients)\n",
    "\n",
    "## Goal\n",
    "In this Lecture, we will generalize the previous example to a <font color=\"green\"><b>fully connected dense neural net</b></font>.\n",
    "\n",
    "## Caveat\n",
    "You will find some paragraphs with the heading <font color=\"red\"><b>Note (for sake of completeness)</b></font><br>\n",
    "These can be skipped and are for people who want to dig deeper in the subject."
   ]
  },
  {
   "cell_type": "markdown",
   "id": "371402ba-7712-4c37-887f-a5f7ec29e6b6",
   "metadata": {},
   "source": [
    "# 1.Dense Neural Nets"
   ]
  },
  {
   "cell_type": "markdown",
   "id": "dfd355ac-40a3-4e9b-b8a6-75576197d076",
   "metadata": {},
   "source": [
    "## Definitions:\n",
    "A **fully connected dense neural network** of <font color=\"green\"><b>depth</b></font> $L$ is a neural net where:\n",
    "- <font color=\"green\"><b>every neuron</b></font> in layer ($l$) is connected to <font color=\"green\"><b>every</b></font> neuron in layer ($l+1$) where $l=\\{0,1,2,\\ldots,L-1\\}$.\n",
    "- these connections are **directed** and **acyclic** (<a href=\"https://en.wikipedia.org/wiki/Directed_acyclic_graph\"><b>DAG</b></a>), i.e. they are unidirectional from layer $l$ towards layer $l+1$ and do\n",
    "  **NOT** cycle back.\n",
    "- the number of nodes in layer $l$ (<font color=\"green\"><b>width</b></font> of layer $l$) will be designated as $n^{[l]}$.\n",
    "- types of layers:\n",
    "  + <font color=\"green\"><b>input</b></font> layer: $l=0$. It is **NOT** counted as a real layer (this will become obvious soon!). \n",
    "  + <font color=\"green\"><b>output</b></font> layer: $l=L$.\n",
    "  + <font color=\"green\"><b>hidden</b></font> layers: $l \\in \\{1,2,\\ldots,L-1\\}$.\n",
    "\n",
    "Neural nets with <font color=\"green\"><b>NO hidden</b></font> layers ($L=1$) are called \n",
    "<font color=\"green\"><b>shallow</b></font>.<br> The neural net we discussed previously (Lecture 1) is an example of a shallow neural net with $n^{[0]}=2$ and $n^{[1]}=1$.\n"
   ]
  },
  {
   "cell_type": "markdown",
   "id": "ce341675-e458-4b9b-97ed-bfa36de4f096",
   "metadata": {},
   "source": [
    "## Example:\n",
    "The image below displays a deep neural with $L=4$ layers (neural net of depth 4).\n",
    "\n",
    "<img src=\"dnn_4layers.jpeg\" alt=\"Deep neural net with 4 layers\" style=\"width:65%; height:auto\">"
   ]
  },
  {
   "cell_type": "markdown",
   "id": "267dcf5e-5b31-49a0-a6fb-10c896b1871a",
   "metadata": {},
   "source": [
    "* <font color=\"green\"><b>input</b></font> layer: layer $0$\n",
    "  + the input layer requires input vectors/examples each of length $n^{[0]}=6$\n",
    "* <font color=\"mediumslateblue\"><b>hidden</b></font> layers: layers $1,2,3$\n",
    "  + layer $1$: has $4$ nodes ($n^{[1]}=4$)\n",
    "  + layer $2$: has $3$ nodes ($n^{[2]}=3$)\n",
    "  + layer $3$: has $6$ nodes ($n^{[3]}=6$)\n",
    "* <font color=\"red\"><b>output</b></font> layer: layer $4$\n",
    "  + layer $4$: has $4$ nodes ($n^{[4]}=4$)\n",
    "\n",
    "The output layer is followed by a <font color=\"green\"><b>loss function</b></font> which is \n",
    "the <font color=\"green\"><b>objective function</b></font> to be minimized during the <font color=\"green\"><b>training</b></font> phase."
   ]
  },
  {
   "cell_type": "markdown",
   "id": "8c56da9a-61a8-4212-bda7-2c08cfd7152e",
   "metadata": {},
   "source": [
    "<font color=\"red\"><b>Note (for sake of completeness)</b></font><br>\n",
    "There are exceptions to the aforementioned definition, e.g. to name a few:\n",
    "+ <a href=\"https://en.wikipedia.org/wiki/Residual_neural_network\"><b>Residual Neural Networks</b></a> (ResNets)\n",
    "+ <a href=\"https://en.wikipedia.org/wiki/Bidirectional_recurrent_neural_networks\"><b>Bidirectional Recurrent Neural Networks</b></a> (BRNNs)\n",
    "+ $\\ldots$\n",
    " \n",
    "This type of networks will **NOT** be covered in this lecture but may the subject of future talks."
   ]
  },
  {
   "cell_type": "markdown",
   "id": "3981fc77-41dc-49cf-8b64-0e95c6575cac",
   "metadata": {},
   "source": [
    "# 2.Activation functions\n",
    "Previously, we discussed the `sigmoid` activation function:<br>\n",
    "  $\\begin{eqnarray}\n",
    "     \\sigma(z) & = & \\frac{1}{1\\,+\\,\\exp(-z)}\\,, z \\,\\in \\mathbb{R}\n",
    "  \\end{eqnarray}$\n",
    "\n",
    "The activation functions for the output layer and the hidden layers\n",
    "are in general <font color=\"green\"><b>different</b></font>.\n",
    "\n",
    "- <font color=\"red\"><b>output</b></font> layer:<br>the activation function is <font color=\"green\"><b>determined</b></font> by the subsequent loss function.\n",
    "  * `binary` classification: <br>\n",
    "    + `sigmoid` $\\sigma(z)$\n",
    "    + $\\sigma(z) \\in [0,1]$\n",
    "  * `multiclass` classification: \n",
    "    + $\\begin{eqnarray}\n",
    "       \\texttt{softmax}(z_{ij}) & := &  \\frac{\\exp(z_{ij})}{ \\displaystyle\\sum_{k=1}^C \\exp(z_{ik})}\n",
    "        \\end{eqnarray}$\n",
    "    + $C$ stands for the number of classes \n",
    "    + $\\texttt{softmax}(z_{ij}) \\in [0,1]$  \n",
    "  * `linear regression`:<br>\n",
    "    + `1` (no action) \n",
    "\n",
    "- <font color=\"mediumslateblue\"><b>hidden</b></font> layers:<br>\n",
    "  There are several activation functions that are commonly used:\n",
    "  * $\\texttt{relu}(x)$: (**Re**ctified **L**inear **U**nit)<br>\n",
    "    + $\\texttt{relu}(x) := \\max(0,x)$\n",
    "    + $\\texttt{relu}(x) \\geq 0 $\n",
    "  * $\\texttt{lrelu}(x;\\alpha)$: (**L**eaky **Re**ctified **L**inear **U**nit)<br>\n",
    "    + $\\texttt{lrelu}(x;\\alpha) := \\max(\\alpha x, x) \\,,\\,0 \\leq \\alpha < 1$\n",
    "  * $\\texttt{gelu}(x)$: (**G**aussian-**e**rror **Linear** **U**nit)<br>\n",
    "    + $\\begin{eqnarray} \\texttt{gelu}(x) &:= & x\\,\\Phi(x) \\end{eqnarray}$ <br>\n",
    "      where $\\Phi(x)$ stands for the <a href=\"https://en.wikipedia.org/wiki/Cumulative_distribution_function\"><b>CDF</b></a> of the standard normal distribution.\n",
    "    + $\\begin{eqnarray} \\texttt{gelu}(x)              & = &x \\displaystyle\\int_{-\\infty}^x \\frac{1}{\\sqrt{2 \\pi}}{ \\exp\\bigg(-\\frac{t^2}{2}\\bigg)} dt\n",
    "       \\end{eqnarray}$\n",
    "  * $\\texttt{swish}(x;\\beta) := x \\, \\sigma(\\beta x)$    \n",
    "  * $\\texttt{tanh}(x)$: (Hyperbolic Tangent)<br>\n",
    "    + $\\texttt{tanh}(x) := \\displaystyle \\frac{\\exp(x) - \\exp(-x)}{\\exp(x) + \\exp(-x)}$\n",
    "    + $\\texttt{tanh}(x) \\in [-1,1]$\n",
    "  * $\\ldots$  <br>\n",
    "  \n",
    "  <font color=\"red\"><b>Note</b></font>:<br>\n",
    "  `ReLU` is the most commonly used activation function within the <font color=\"mediumslateblue\"><b>hidden</b></font> layers.\n"
   ]
  },
  {
   "cell_type": "markdown",
   "id": "6b1d364f-43a4-408a-8e7b-f5f57048badd",
   "metadata": {},
   "source": [
    "## Plot of some of the activation functions\n",
    "Below you will find some of the aforementioned activation functions displayed."
   ]
  },
  {
   "cell_type": "code",
   "execution_count": 49,
   "id": "1441802d-00c7-4793-a910-7c2194791a39",
   "metadata": {
    "jupyter": {
     "source_hidden": true
    }
   },
   "outputs": [
    {
     "data": {
      "image/png": "[encoded data removed]",
      "text/plain": [
       "<Figure size 640x480 with 1 Axes>"
      ]
     },
     "metadata": {},
     "output_type": "display_data"
    }
   ],
   "source": [
    "START= -2.5\n",
    "END= 2.5\n",
    "DENS_PER_UNIT=20\n",
    "ALPHA=0.05\n",
    "x = np.linspace(start=START,stop=END, num=int((END-START))*DENS_PER_UNIT+1)\n",
    "y_relu = np.maximum(0,x)\n",
    "y_lrelu = np.maximum(ALPHA*x,x)\n",
    "y_tanh = np.tanh(x)\n",
    "y_sigmoid = 1.0/(1.0+np.exp(-x))\n",
    "y_swish = x*y_sigmoid\n",
    "y_gelu = x* ss.norm.cdf(x)\n",
    "plt.title(r\"Plot of the most common activation functions\")\n",
    "plt.plot(x,y_lrelu, label=r\"$\\mathrm{lrelu(x;\\alpha=0.05)}$\", color=\"blue\")\n",
    "plt.plot(x,y_relu, label=r\"$\\mathrm{relu(x)}$\", color=\"red\")\n",
    "plt.plot(x,y_gelu, label=r\"$\\mathrm{gelu(x)}$\")\n",
    "plt.plot(x,y_tanh, label=r\"$\\mathrm{tanh(x)}$\", color=\"green\")\n",
    "plt.plot(x,y_sigmoid, label=r\"$\\mathrm{\\sigma(x)}$\", color=\"orange\")\n",
    "plt.plot(x,y_swish, label=r\"$\\mathrm{swish(x;\\beta=1.0)}$\", color=\"brown\")\n",
    "plt.xticks(np.arange(START,END+0.5, step=0.5))\n",
    "plt.xlabel(r\"$x$\")\n",
    "plt.ylabel(r\"$y$\",rotation=0)\n",
    "plt.grid()\n",
    "plt.legend()\n",
    "plt.show()"
   ]
  },
  {
   "cell_type": "markdown",
   "id": "458081c5-5c69-4cf5-8863-4ec6d22cf31a",
   "metadata": {},
   "source": [
    "# 3.Cost/Loss functions\n",
    "\n",
    "* The <font color=\"green\"><b>cost</b></font> function ($\\mathcal{C}$) is defined as follows:<br>\n",
    "$\\begin{eqnarray}\n",
    "    \\mathcal{C} & := & \\frac{1}{m} \\sum_{i=1}^m \\mathcal{L}^{(i)}\n",
    " \\end{eqnarray}$<br>\n",
    " where $\\mathcal{L}^{(i)}$ stands for the <font color=\"green\"><b>loss</b></font> function for example $i$ and $m$ stands for the batch\n",
    " of examples used.\n",
    "\n",
    "* Depending on the task we want to accomplish, we need to use different loss functions.<br>\n",
    "  The most <font color=\"blue\"><b>common</b></font> loss functions are:<br>\n",
    "  * `binary classification`<br>\n",
    "    $\\begin{eqnarray}\n",
    "        \\mathcal{L}^{(i)} &:= & -y_i\\,\\log(a^{[L]}_i)\n",
    "      \\end{eqnarray}$<br>\n",
    "    where:\n",
    "    - $y_i$ is either $0$ or (<font color=\"red\"><b>exclusive</b></font>) $1$ and represents the label of example $i$.\n",
    "  * `multiclass classification`<br>\n",
    "    $\\begin{eqnarray}\n",
    "        \\mathcal{L}^{(i)} &:= & \\sum_{j=1}^C -y_{ij}\\,\\log(a^{[L]}_{ij})\n",
    "      \\end{eqnarray}$<br>\n",
    "    where:<br>\n",
    "    + $y_i$ is a <a href=\"https://en.wikipedia.org/wiki/One-hot\"><b>one-hot</b></a> encoding vector representing the <font color=\"green\"><b>label</b></font> of example $i$.\n",
    "    + $C$ stands for the <font color=\"green\"><b>number of classes</b></font>.\n",
    "  * `linear regression`<br>\n",
    "    $\\begin{eqnarray}\n",
    "        \\mathcal{L}^{(i)} &:= \\frac{1}{2} (y_i - a^{[L]}_i)^2\n",
    "      \\end{eqnarray}$<br>\n",
    "    where:<br>\n",
    "    + $y_i$ is the value associated with example $i$.\n",
    "* The cost function can also contain extra terms (i.e. <font color=\"green\"><b>regularization</b></font>) to constrain certain parameters/prevent <font color=\"green\"><b>overfitting</b></font>.<br>\n",
    "  We will elaborate on this later on in this Lecture.\n"
   ]
  },
  {
   "cell_type": "markdown",
   "id": "6a48fcbb-c173-4df3-ad17-206ab872b2c5",
   "metadata": {},
   "source": [
    "<font color=\"red\"><b>Note (for sake of completeness)</b></font><br>\n",
    "- A lot of loss functions can be easily derived using:\n",
    "  + the <a href=\"https://en.wikipedia.org/wiki/Maximum_likelihood_estimation\"><b>Maximum Likelihood Estimation</b></a> (MLE) method or using the <a href=\"https://en.wikipedia.org/wiki/Kullback%E2%80%93Leibler_divergence\"><b>Kullback-Leibler divergence</b></a>\n",
    "  + combined with the theory of <a href=\"https://en.wikipedia.org/wiki/Generalized_linear_model\"><b>Generalized Linear Models</b></a> (GLM).<br>\n",
    "  e.g. `Poisson loss function` (to predict discrete counts),...\n",
    "- To improve <font color=\"green\"><b>numerical stabilty</b></font>, the activation function for the\n",
    "    last layer ($L$) and the loss function are:\n",
    "  + often <font color=\"green\"><b>calculated together/at once</b></font>\n",
    "  + and then bear a separate (information-theoretic) name.\n",
    "\n",
    "- In the output layer there can be several types of activation functions at the same time,<br>\n",
    "  e.g. a `linear regression` problem where we are interested at the same time:\n",
    "  + in a predicted value of $a^{[L]}_{i1} \\in \\mathbb{R}$\n",
    "  + the prediction of the variance ($ a^{[L]}_{i2}\\in \\mathbb{R}^+$)\n"
   ]
  },
  {
   "cell_type": "markdown",
   "id": "5d6c434a-28c2-498d-a978-1d7041f135e4",
   "metadata": {},
   "source": [
    "# 4.Structure of the DNN: summary\n",
    "- We just described the <font color=\"green\"><b>basic structure</b></font> of a deep neural network, i.e.:\n",
    "  + the layers $l \\in \\{0,1,\\ldots, L\\}$.\n",
    "  + the number of nodes per layer i.e. $n^{[l]}$ for $l \\in \\{0,1,\\ldots, L\\}$.\n",
    "- We also introduced the two other structural components:\n",
    "  + activation functions.<br>\n",
    "    <font color=\"green\"><b>ONE</B></font> activation function ($\\widehat{h}^{[l]}$) is <font color=\"green\"><b>REQUIRED</b></font> per layer $l \\in \\{1,\\ldots, L\\}$.\n",
    "  + the loss/cost function $\\mathcal{L}^{(i)}/\\mathcal{C}$.<br>\n",
    "    The loss/cost function is only <font color=\"green\"><b>MANDATORY</b></font> during training."
   ]
  },
  {
   "cell_type": "markdown",
   "id": "187c9f61-970b-4188-9602-0d037f4e4fee",
   "metadata": {},
   "source": [
    "## Implementation of the previous DNN example in Keras/PyTorch\n",
    "\n",
    "We have a deep neural with $L=4$ layers (neural net of depth 4).\n",
    "* <font color=\"green\"><b>input</b></font> layer: layer $0$\n",
    "  + the input layer requires input vectors/examples each of length $n^{[0]}=6$\n",
    "* <font color=\"mediumslateblue\"><b>hidden</b></font> layers: layers $1,2,3$\n",
    "  + layer $1$: has $4$ nodes ($n^{[1]}=4$) - activation $h^{[1]}$: `ReLu` \n",
    "  + layer $2$: has $3$ nodes ($n^{[2]}=3$) - activation $h^{[2]}$: `ReLu`\n",
    "  + layer $3$: has $6$ nodes ($n^{[3]}=6$) - activation $h^{[3]}$: `ReLu` \n",
    "* <font color=\"red\"><b>output</b></font> layer: layer $4$\n",
    "  + layer $4$: has $4$ nodes ($n^{[4]}=4$) - activation $h^{[4]}$: `softmax`\n",
    "    (We assume that the model will train to classify $4$ classes). "
   ]
  },
  {
   "cell_type": "code",
   "execution_count": 44,
   "id": "c3932136-b245-4833-acbc-b2219e25904d",
   "metadata": {},
   "outputs": [
    {
     "data": {
      "text/html": [
       "<pre style=\"white-space:pre;overflow-x:auto;line-height:normal;font-family:Menlo,'DejaVu Sans Mono',consolas,'Courier New',monospace\"><span style=\"font-weight: bold\">Model: \"sequential_1\"</span>\n",
       "</pre>\n"
      ],
      "text/plain": [
       "\u001b[1mModel: \"sequential_1\"\u001b[0m\n"
      ]
     },
     "metadata": {},
     "output_type": "display_data"
    },
    {
     "data": {
      "text/html": [
       "<pre style=\"white-space:pre;overflow-x:auto;line-height:normal;font-family:Menlo,'DejaVu Sans Mono',consolas,'Courier New',monospace\">┏━━━━━━━━━━━━━━━━━━━━━━━━━━━━━━━━━┳━━━━━━━━━━━━━━━━━━━━━━━━┳━━━━━━━━━━━━━━━┓\n",
       "┃<span style=\"font-weight: bold\"> Layer (type)                    </span>┃<span style=\"font-weight: bold\"> Output Shape           </span>┃<span style=\"font-weight: bold\">       Param # </span>┃\n",
       "┡━━━━━━━━━━━━━━━━━━━━━━━━━━━━━━━━━╇━━━━━━━━━━━━━━━━━━━━━━━━╇━━━━━━━━━━━━━━━┩\n",
       "│ dense_4 (<span style=\"color: #0087ff; text-decoration-color: #0087ff\">Dense</span>)                 │ (<span style=\"color: #00d7ff; text-decoration-color: #00d7ff\">None</span>, <span style=\"color: #00af00; text-decoration-color: #00af00\">4</span>)              │            <span style=\"color: #00af00; text-decoration-color: #00af00\">28</span> │\n",
       "├─────────────────────────────────┼────────────────────────┼───────────────┤\n",
       "│ dense_5 (<span style=\"color: #0087ff; text-decoration-color: #0087ff\">Dense</span>)                 │ (<span style=\"color: #00d7ff; text-decoration-color: #00d7ff\">None</span>, <span style=\"color: #00af00; text-decoration-color: #00af00\">3</span>)              │            <span style=\"color: #00af00; text-decoration-color: #00af00\">15</span> │\n",
       "├─────────────────────────────────┼────────────────────────┼───────────────┤\n",
       "│ dense_6 (<span style=\"color: #0087ff; text-decoration-color: #0087ff\">Dense</span>)                 │ (<span style=\"color: #00d7ff; text-decoration-color: #00d7ff\">None</span>, <span style=\"color: #00af00; text-decoration-color: #00af00\">6</span>)              │            <span style=\"color: #00af00; text-decoration-color: #00af00\">24</span> │\n",
       "├─────────────────────────────────┼────────────────────────┼───────────────┤\n",
       "│ dense_7 (<span style=\"color: #0087ff; text-decoration-color: #0087ff\">Dense</span>)                 │ (<span style=\"color: #00d7ff; text-decoration-color: #00d7ff\">None</span>, <span style=\"color: #00af00; text-decoration-color: #00af00\">4</span>)              │            <span style=\"color: #00af00; text-decoration-color: #00af00\">28</span> │\n",
       "└─────────────────────────────────┴────────────────────────┴───────────────┘\n",
       "</pre>\n"
      ],
      "text/plain": [
       "┏━━━━━━━━━━━━━━━━━━━━━━━━━━━━━━━━━┳━━━━━━━━━━━━━━━━━━━━━━━━┳━━━━━━━━━━━━━━━┓\n",
       "┃\u001b[1m \u001b[0m\u001b[1mLayer (type)                   \u001b[0m\u001b[1m \u001b[0m┃\u001b[1m \u001b[0m\u001b[1mOutput Shape          \u001b[0m\u001b[1m \u001b[0m┃\u001b[1m \u001b[0m\u001b[1m      Param #\u001b[0m\u001b[1m \u001b[0m┃\n",
       "┡━━━━━━━━━━━━━━━━━━━━━━━━━━━━━━━━━╇━━━━━━━━━━━━━━━━━━━━━━━━╇━━━━━━━━━━━━━━━┩\n",
       "│ dense_4 (\u001b[38;5;33mDense\u001b[0m)                 │ (\u001b[38;5;45mNone\u001b[0m, \u001b[38;5;34m4\u001b[0m)              │            \u001b[38;5;34m28\u001b[0m │\n",
       "├─────────────────────────────────┼────────────────────────┼───────────────┤\n",
       "│ dense_5 (\u001b[38;5;33mDense\u001b[0m)                 │ (\u001b[38;5;45mNone\u001b[0m, \u001b[38;5;34m3\u001b[0m)              │            \u001b[38;5;34m15\u001b[0m │\n",
       "├─────────────────────────────────┼────────────────────────┼───────────────┤\n",
       "│ dense_6 (\u001b[38;5;33mDense\u001b[0m)                 │ (\u001b[38;5;45mNone\u001b[0m, \u001b[38;5;34m6\u001b[0m)              │            \u001b[38;5;34m24\u001b[0m │\n",
       "├─────────────────────────────────┼────────────────────────┼───────────────┤\n",
       "│ dense_7 (\u001b[38;5;33mDense\u001b[0m)                 │ (\u001b[38;5;45mNone\u001b[0m, \u001b[38;5;34m4\u001b[0m)              │            \u001b[38;5;34m28\u001b[0m │\n",
       "└─────────────────────────────────┴────────────────────────┴───────────────┘\n"
      ]
     },
     "metadata": {},
     "output_type": "display_data"
    },
    {
     "data": {
      "text/html": [
       "<pre style=\"white-space:pre;overflow-x:auto;line-height:normal;font-family:Menlo,'DejaVu Sans Mono',consolas,'Courier New',monospace\"><span style=\"font-weight: bold\"> Total params: </span><span style=\"color: #00af00; text-decoration-color: #00af00\">95</span> (380.00 B)\n",
       "</pre>\n"
      ],
      "text/plain": [
       "\u001b[1m Total params: \u001b[0m\u001b[38;5;34m95\u001b[0m (380.00 B)\n"
      ]
     },
     "metadata": {},
     "output_type": "display_data"
    },
    {
     "data": {
      "text/html": [
       "<pre style=\"white-space:pre;overflow-x:auto;line-height:normal;font-family:Menlo,'DejaVu Sans Mono',consolas,'Courier New',monospace\"><span style=\"font-weight: bold\"> Trainable params: </span><span style=\"color: #00af00; text-decoration-color: #00af00\">95</span> (380.00 B)\n",
       "</pre>\n"
      ],
      "text/plain": [
       "\u001b[1m Trainable params: \u001b[0m\u001b[38;5;34m95\u001b[0m (380.00 B)\n"
      ]
     },
     "metadata": {},
     "output_type": "display_data"
    },
    {
     "data": {
      "text/html": [
       "<pre style=\"white-space:pre;overflow-x:auto;line-height:normal;font-family:Menlo,'DejaVu Sans Mono',consolas,'Courier New',monospace\"><span style=\"font-weight: bold\"> Non-trainable params: </span><span style=\"color: #00af00; text-decoration-color: #00af00\">0</span> (0.00 B)\n",
       "</pre>\n"
      ],
      "text/plain": [
       "\u001b[1m Non-trainable params: \u001b[0m\u001b[38;5;34m0\u001b[0m (0.00 B)\n"
      ]
     },
     "metadata": {},
     "output_type": "display_data"
    },
    {
     "name": "stdout",
     "output_type": "stream",
     "text": [
      "None\n"
     ]
    }
   ],
   "source": [
    "## Keras/PyTorch code\n",
    "model = keras.Sequential([\n",
    "          keras.layers.Input(shape=(6,)),                      # Input: 6-dimensional input vector\n",
    "          keras.layers.Dense(units=4, activation='relu'),      # Layer 1\n",
    "          keras.layers.Dense(units=3, activation='relu'),      # Layer 2\n",
    "          keras.layers.Dense(units=6, activation='relu'),      # Layer 3\n",
    "          keras.layers.Dense(units=4, activation='softmax')])  # Output layer: 4 classes\n",
    "print(model.summary())  "
   ]
  },
  {
   "cell_type": "markdown",
   "id": "15c24887-f06c-4021-9a55-bbf54938cebc",
   "metadata": {},
   "source": [
    "## <font color=\"blue\"><b>Here comes an exercise</b></font>\n",
    "Add also the low level version (PyTorch without Keras)"
   ]
  },
  {
   "cell_type": "markdown",
   "id": "b5da22a3-9bb9-4f86-81be-0a3e3a6853fb",
   "metadata": {},
   "source": [
    "# 5. Training of a Deep Neural Network\n",
    "- During <font color=\"green\"><b>TRAINING</b></font>, a `function` needs to be found<br>\n",
    "  which is able to <font color=\"green\"><b>GENERALIZE</b></font> well (i.e. to deal sufficiently well with unseen examples).\n",
    "- Therefore, two questions arise:\n",
    "  + a. does such a `function` even exist?\n",
    "  + b. and if so, how to find such a `function`/how to train a network.<br>\n",
    "These questions will be addressed in short in this section and explained in detail down the road.\n"
   ]
  },
  {
   "cell_type": "markdown",
   "id": "2fd23507-fe4c-4dec-885c-c97ed4be8d41",
   "metadata": {},
   "source": [
    "## The universal approximation theorems (UATs)\n",
    "Describe the universal approximation theorem and provide some references."
   ]
  },
  {
   "cell_type": "markdown",
   "id": "3b714b99-16cb-4c8e-9e7f-221334d8bd61",
   "metadata": {},
   "source": [
    "## Training a deep neural network.\n",
    "\n",
    "- In <a href=\"./lecture1.ipynb\"><b>Lecture 1</b></a>, we trained a shallow neural network ($1$ node in $1$ layer).<br>\n",
    "  To do so, we had to <font color=\"green\"><b>iterate</b></font> repeatedly over the <font color=\"blue\"><b>following loop</b></font>:\n",
    "  + Perform the <font color=\"green\"><b>forward propagation</b></font></color>.<br>Start at the input layer and proceed forward to the output layer and the loss function.\n",
    "  + Perform the <font color=\"green\"><b>backward propagation</b></font></color>.<br>Start at the loss function and recede all the way to the first layer\n",
    "    in order to obtain the <font color=\"green\"><b>gradients of the parameters</b></font>.\n",
    "  + <font color=\"green\"><b>Update the parameters</b></font> (weights and bias) using the <font color=\"green\"><b>gradient descent</b></font> method.<br>  \n",
    "\n",
    "  The same procedure is used to train deep neural net of $L$ layers, but a few caveats<br>\n",
    "\n",
    "  - **Convexity of the objective function**<br>\n",
    "    + In <a href=\"./lecture1.ipynb\"><b>Lecture 1</b></a>, our objective function was <font color=\"green\"><b>convex</b></font>.\n",
    "      Therefore, when we reached the <br>\n",
    "      <font color=\"green\"><b>local minimum</b></font> we were assured to obtain the <font color=\"green\"><b>global minimum</b></font> of the         objective function.<br>\n",
    "  \n",
    "    + However, the cost function for deep neural nets is in general <font color=\"red\"><b>NOT convex</b></font>:<br>we can never be certain          that we have reached the global minimum of this highly dimensional surface.\n",
    "\n",
    "  - **Rate of convergency**\n",
    "    + The <font color=\"green\"><b>rate of convergence</b></font> of gradient descent (first-order method) is very slow.\n",
    "    + There are second-order methods to locate the minimum:\n",
    "      - they <font color=\"green\"><b>speed up</b></font> the optimization process.\n",
    "      - but are very <font color=\"red\"><b>expensive</b></font> (require the\n",
    "      calculation of the Hessian for the parameters).\n",
    "    + We will introduce more performant adaptations of gradient descent to enhance the convergence rate.<br><br> \n",
    "\n",
    "- In the next sections we will discuss:\n",
    "  + the forward propagation\n",
    "  + the backward propagation\n",
    "  + the optimization method<br>\n",
    "  \n",
    "  for a deep neural net."
   ]
  },
  {
   "cell_type": "markdown",
   "id": "f2e82191-8afc-4dc3-af62-21b5c5065962",
   "metadata": {},
   "source": [
    "# 6.Forward propagation (dense deep neural net)\n",
    "\n",
    "We extracted a slice from the previous example to illuminate the principle of forward propagation .<br><br>\n",
    "<img src=\"forward1.jpeg\" alt=\"Connections between layers 1 and 2\" style=\"width:65%; height:auto\"><br>\n",
    "\n",
    "**Setup/Context**\n",
    "- We have a dense deep neural net with **$L$** layers. Each layer $l$ has **$n^{[l]}$** nodes.\n",
    "- The input layer ($l=0$) has $n^{[0]}$ nodes.<br>\n",
    "- The number of nodes ($n^{[0]}$) is **equal** to the dimensionality of each input vector $x_i$, where:<br>\n",
    "  $\\begin{eqnarray}\n",
    "    x_i := \\begin{pmatrix}\n",
    "            x_{i,1} & x_{i,2} & \\ldots & x_{i,n^{[0]}}\n",
    "           \\end{pmatrix}\n",
    "  \\end{eqnarray}$<br>\n",
    "- $ a^{[0]}_{i} := x_i $   \n",
    "\n",
    "**Transformation**\n",
    "- At <font color=\"green\"><b>layer</b></font> $l \\in \\{1,2,\\ldots,L\\}$ the vector associated with example $i$ is transformed as follows:<br>\n",
    "    $\\begin{eqnarray}\n",
    "      z^{[l]}_{i,k} &= & \\sum_{j=1}^{n^{[l-1]}} a^{[l-1]}_{i,j} w^{[l]}_{j,k} + b^{[l]}_k \\; \\;,\\; k \\in \\{1,2, \\dots,n^{[l]}\\} \\\\\n",
    "      a^{[l]}_{i,k} &= & \\widehat{h}^{[l]}(z^{[l]}_{i,k}) \\; \\;,\\; k \\in \\{1,2, \\dots,n^{[l]}\\}\n",
    "    \\end{eqnarray}$<br>\n",
    "  i.e.:\n",
    "    + at **each** node $k$ of layer $l$ the input vector $a^{[l-1]}_i$ is <font color=\"green\"><b>weighted</b></font> and a <font color=\"green\"><b>bias</b></font> is added ($ \\Rightarrow z^{[l]}_{i,k}$)\n",
    "    + subsequently, at **each** node $k$ of layer $l$ the corresponding value $z^{[l]}_{i,k}$ is <font color=\"green\"><b>transformed</b></font> using a **non-linear** activation function\n",
    "      $\\widehat{h}^{[l]}$.<br> The output of the activation function for example $i$ at node $k$ of layer $l$ is labeled $a^{[l]}_{i,k}$.<br>\n",
    "    + given that the $l$-th layer contains $n^{[l]}$\n",
    "      nodes, the transformation of example $i$ at layer $l$ results into a vector of dimension $n^{[l]}$.\n",
    "\n",
    "**Vectorization**   \n",
    "- This procedure can easily be <font color=\"green\"><b>vectorized</b></font>:<br> $m$ example vectors can be transformed simultaneously/in batch at the same layer .\n",
    "\n",
    "- <font color=\"green\"><b>Algorithm</b></font>:\n",
    "  + Let $X$ be an input matrix of $m$ examples (one example per row) and $n^{[0]}$ columns.\n",
    "  + $A^{[0]}:=X$ $,\\hspace{0.5in}A{[0]} \\in \\mathbb{R}^{m\\times n^{[0]}}$<br>\n",
    "    $\\texttt{for(l=1,..,L)}$<br>\n",
    "    $\\texttt{do}$<br>\n",
    "    $\\begin{eqnarray}\n",
    "      \\hspace{0.35in}Z^{[l]} &= & A^{[l-1]}W^{[l]} + b^{[l]} \\\\\n",
    "      A^{[l]} &= &\\widehat{h}^{[l]}(Z^{[l]})\n",
    "     \\end{eqnarray}$<br>\n",
    "    $\\texttt{done}$\n",
    "  + Calculate $\\mathcal{C}$ using $A^{[L]}$ and $Y$.\n",
    "\n",
    "**Summary**   \n",
    "- In order to learn, the network requires weight, biases matrices and activation functions for each layer $l$:  \n",
    "  * <font color=\"green\"><b>Weight matrices</b></font>: $W^{[l]} \\in \\mathbb{R}^{n^{[l-1]}\\times n^{[l]}}$\n",
    "  * <font color=\"green\"><b>Bias vectors</b></font>: $b^{[l]} \\in \\mathbb{R}^{ 1 \\times n^{[l]}}$\n",
    "  * <font color=\"green\"><b>Non-linear activation functions</b></font>: $\\widehat{h}^{[l]}$\n",
    "- The weight matrices and the bias vectors are known as the <font color=\"green\"><b>PARAMETERS</b></font> of the model."
   ]
  },
  {
   "cell_type": "markdown",
   "id": "91cc295e-a36c-4274-a8f7-48e1caf0739a",
   "metadata": {},
   "source": [
    "# 7.Back propagation\n",
    "* The calculation of the cost function (<font color=\"green\"><b>forward propagation</b></font>):<br>\n",
    "  starts at layer $1$, then goes to layer $2$ and propagates all the way to the output layer $L$.<br>\n",
    "  The output of the last layer $L$ is used to calculate the cost function $\\mathcal{C}$.\n",
    "\n",
    "* The <font color=\"green\"><b>back propagation</b></font> operates in the <font color=\"green\"><b>exactly opposite</b></font> direction:\n",
    "  - it starts with the cost function $\\mathcal{C}$ and recedes all the way back to $l=1$.\n",
    "  - during the back propagation, the <font color=\"green\"><b>gradients</b></font> of the parameters $W^{[l]}, b^{[l]}$ are calculated.\n"
   ]
  },
  {
   "cell_type": "markdown",
   "id": "7e599aaa-f7d5-4b0f-8fbf-b09f54b59843",
   "metadata": {},
   "source": [
    "<font color=\"red\"><b>Note (for sake of completeness)</b></font><br>\n",
    "In these section we will describe the backpropagation in more detail.<br>The expressions below can easily\n",
    "be derived by the application of the chain rule.\n",
    "\n",
    "- We start at the <font color=\"green\"><b>output</b></font> layer ($l=L$):\n",
    "  * $\\begin{eqnarray}\n",
    "     \\mathcal{C} & := & \\frac{1}{m} \\sum_{i=1}^m \\mathcal{L}^{(i)}\n",
    "     \\end{eqnarray}$\n",
    "  * Let:<br>\n",
    "    $\\begin{eqnarray}\n",
    "     (dA^{[L]})_{ij} &:=& \\frac{\\partial \\mathcal{L}^{(i)}} {\\partial a^{[L]}_{i,j}} \\\\\n",
    "     (dZ^{[L]})_{ij} &:=& \\frac{\\partial \\mathcal{L}^{(i)}} {\\partial z^{[L]}_{i,j}} &= &\\sum_{k=1}^{n^{[L]}}\\frac{\\partial \\mathcal{L}^{(i)}} {\\partial a^{[L]}_{i,k}} \\frac{\\partial a^{[L]}_{i,k}}\n",
    "     {\\partial z^{[L]}_{i,j}}\\\\\n",
    "     (dW^{[L]})_{i,j} & := &  \\frac{\\partial \\mathcal{C}}{\\partial w^{[L]}_{i, j}} \\\\\n",
    "     (db^{[L]})_{j} & := &  \\frac{\\partial \\mathcal{C}}{\\partial b^{[L]}_{j}} \n",
    "    \\end{eqnarray}$\n",
    "  * The application of the <font color=\"green\"><b>chain rule</b></font> results into:<br>\n",
    "    $\\begin{eqnarray}\n",
    "     dW^{[L]} & = & \\frac{1}{m}(A^{[L-1]})^T.dZ^{[L]} \\\\\n",
    "     db^{[L]} & = & \\frac{1}{m}\\sum_{i=1}^m(dZ^{[L]})_i \n",
    "    \\end{eqnarray}$\n",
    "  \n",
    "- Using the relation $Z^{[l]} = A^{[l-1]}.W^{[l]} + b^{[l]}$<br>\n",
    "  we can determine $dW^{[l]}, db^{[l]}$ for the <font color=\"green\"><b>other layers</b></font> $ l \\in \\{L-1,\\ldots,2,1\\}$.\n",
    "\n",
    "  Therefore,<br>\n",
    "  $\\texttt{for(l=L,...,2)}$<br>\n",
    "  $\\texttt{do}$<br>\n",
    "  $\\begin{eqnarray}\n",
    "      \\hspace{0.35in}dA^{[l-1]} &= & dZ^{[l]}.(W^{[l]})^T \\\\\n",
    "                     dZ^{[l-1]} &= & dA^{[l-1]} \\odot d\\widehat{H}^{[l-1]} \\\\\n",
    "                     dW^{[l-1]} & =& \\frac{1}{m}(A^{[l-2]})^T.dZ^{[l-1]} \\\\\n",
    "                     db^{[l-1]} & =& \\frac{1}{m}\\sum_{i=1}^m(dZ^{[l-1]})_i\n",
    "  \\end{eqnarray}$<br>\n",
    "  $\\texttt{done}$\n",
    "\n",
    "  where:\n",
    "  + $\\odot$ stands for the <a href=\"https://en.wikipedia.org/wiki/Hadamard_product_(matrices)\"><b>Hadamard product</b></a>\n",
    "  + $(d\\widehat{H}^{[l-1]})_{i,j} := (\\widehat{h}^{\\prime[l-1]})_{i,j} $<br>\n",
    "  \n",
    "  <font color=\"brown\"><b>Remark:</b></font>\n",
    "    \n",
    "  + $dZ^{[l-1]} =  dA^{[l-1]} \\odot d\\widehat{H}^{[l-1]}$ <br>$\\texttt{iff}$<br>\n",
    "    $\\begin{eqnarray}\n",
    "      \\frac{\\partial a^{[l]}_{ik}}{\\partial z^{[l]}_{ij}} &= &\\widehat{h}^{[l]}(z^{[l]}_{ij})\n",
    "      \\end{eqnarray}$ which is indeed the case for `ReLU`\n",
    "  "
   ]
  },
  {
   "cell_type": "markdown",
   "id": "c331abce-373a-413a-bcd5-c5b25ade6fcd",
   "metadata": {},
   "source": [
    "# 8.Optimization\n",
    "\n",
    "## Using simple gradient descent\n",
    "Once we have obtained **ALL** the gradients for the parameters using back propagation,<br> \n",
    "we can <font color=\"green\"><b>update the parameters</b></font> using gradient descent, in the following way:\n",
    "\n",
    "$\\texttt{for(l=1,...,L)}$<br>\n",
    "  $\\texttt{do}$<br>\n",
    "  $\\begin{eqnarray}\n",
    "      W^{[l]} & = & W^{[l]} - \\alpha \\,dW^{[l]} \\\\\n",
    "      b^{[l]} & = & b^{[l]} - \\alpha \\,db^{[l]} \\\\\n",
    "  \\end{eqnarray}$<br>\n",
    "  $\\texttt{done}$\n",
    "\n",
    "The variable $\\alpha$ is called a <font color=\"green\"><b>hyper parameter</b></font> (all variables <font color=\"blue\"><b>beyond</b></font> (\n",
    "ὑπέρ) the parameters $W^{[l]},b^{[l]}$ where $l \\in \\{1,2,\\ldots,L\\}$).<br> The hyper parameter $\\alpha$ is known as the <font color=\"green\"><b>learning rate</b></font> in AI parlance. \n",
    "\n",
    "### Setting the learning rate $\\alpha$\n",
    "If we choose:\n",
    "+ a <font color=\"red\"><b>too big</b></font> value of $\\alpha$, we can make steps that are too large and miss the path to the minimum.\n",
    "+ a <font color=\"red\"><b>very small value</b></font> of $\\alpha$, we will get an extremely slow rate of convergence.\n",
    "\n",
    "There are algorithms that <font color=\"green\"><b>modify the learning rate</b></font> during the minimization process. We will elaborate \n",
    "on this later on.\n",
    "\n",
    "### Epochs and the batch size $m$\n",
    "\n",
    "- In our previous derivations we always used a batch of $m$ examples without specifying the size of $m$.\n",
    "- In <font color=\"green\"><b>regular/batch gradient descent</b></font> we consider **all examples at once**:\n",
    "  + to calculate the gradient\n",
    "  + and update the parameters.<br>\n",
    "  In the case of ML, this approach in <font color=\"red\"><b>generally impossile</b></font> to\n",
    "  the sheer size of the data.\n",
    "\n",
    "- <font color=\"green\"><b>In praxi</b></font>, the following approach is followed in ML:\n",
    "  + the complete dataset ($N$ examples) is split up into `mini-batches` of size $m$. \n",
    "  + it takes $\\kappa:= \\frac{N}{m}$ `mini-batches` to proceed through the dataset (assuming $m | N$).\n",
    "  + after each `mini-batch`, the gradients will be calculated and the parameters updated.\n",
    "  + A <font color=\"green\"><b>single pass</b></font> through the entire data set is called an <font color=\"green\"><b>epoch</b></font>.\n",
    "  + When $m=1$, the gradient procedure is known as <font color=\"green\"><b>stochastic gradient descent</b></font>.<br>\n",
    "    (This is <font color=\"red\"><b>NOT a great approach</b></font> - <font color=\"red\"><b>volatility</b></font> of the loss)\n",
    "  + $m$ is a hyper parameter. It is often set to be a power of $2$ (data alignment with the memory architecture).\n",
    "\n",
    "So, we end up with the following <font color=\"green\"><b>training algorithm</b></font>:\n",
    "\n",
    "$\\texttt{for(i=1,...,nepochs)}$<br>\n",
    "$\\texttt{do}$<br>\n",
    "$\\hspace{0.35in}\\texttt{for(ibatch=1,...,nbatches)}$<br>\n",
    "$\\hspace{0.35in}\\texttt{do}$<br>\n",
    "$\\hspace{0.7in}\\texttt{Calculate Cost (forward)}$<br>\n",
    "$\\hspace{0.7in}\\texttt{Calculate gradients (backward)}$<br>\n",
    "$\\hspace{0.7in}\\texttt{Update parameters}$<br>\n",
    "$\\hspace{0.35in}\\texttt{done}$<br>\n",
    "$\\texttt{done}$<br>\n",
    " \n",
    "### Scaling of the input - standardizing\n",
    "In order to improve the optimization : scale the input\n",
    "\n",
    "<font color=\"red\"><b>Still to be discussed</b></font>\n",
    "- Initialization of the parameters W and b (Glorot and He).\n",
    "- Scaling of the input (e.g. standardizing) -  Why is this useful?\n",
    "  "
   ]
  },
  {
   "cell_type": "markdown",
   "id": "5a6ec27b-8433-4a79-83ea-356cbd808900",
   "metadata": {},
   "source": [
    "# 9.Training/validation/testing\n",
    "<font color=\"red\"><b>Still to be worked out </b></font>\n",
    "- Folding\n",
    "- Bias and Variance\n",
    "- Overfitting & underfitting\n",
    "- How to find what is the issue and to improve.\n",
    "- How to test hyper parameters "
   ]
  },
  {
   "cell_type": "markdown",
   "id": "217b73d6-7832-448a-a988-a0546872886b",
   "metadata": {},
   "source": [
    "# 10.Improvements\n",
    "\n",
    "\n"
   ]
  },
  {
   "cell_type": "markdown",
   "id": "dcc4f414-3eff-4871-9f82-59a0527096eb",
   "metadata": {},
   "source": [
    "<font color=\"red\"><b>Still to be worked out</b></font>\n",
    "- Regularization:\n",
    "  * Lasso, Ridge, Elastic\n",
    "  * Dropout\n",
    "- BatchNorm\n",
    "- Improving the optimization process\n",
    "  * Momentum methods (Ada, RmsProp)\n",
    "  * Adam,..\n",
    "  * Second-order methods\n",
    "  * $\\alpha$: as a function\n",
    "- Debugging     "
   ]
  },
  {
   "cell_type": "code",
   "execution_count": null,
   "id": "7da60458-420b-44a1-b54e-b470315bc524",
   "metadata": {},
   "outputs": [],
   "source": []
  }
 ],
 "metadata": {
  "kernelspec": {
   "display_name": "Python 3 (ipykernel)",
   "language": "python",
   "name": "python3"
  },
  "language_info": {
   "codemirror_mode": {
    "name": "ipython",
    "version": 3
   },
   "file_extension": ".py",
   "mimetype": "text/x-python",
   "name": "python",
   "nbconvert_exporter": "python",
   "pygments_lexer": "ipython3",
   "version": "3.13.5"
  }
 },
 "nbformat": 4,
 "nbformat_minor": 5
}
