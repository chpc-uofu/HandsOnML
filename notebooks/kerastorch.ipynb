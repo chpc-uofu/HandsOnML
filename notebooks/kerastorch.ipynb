{
 "cells": [
  {
   "cell_type": "code",
   "execution_count": null,
   "id": "12cb4c0a-e099-446b-9097-6e31656f66e7",
   "metadata": {},
   "outputs": [],
   "source": [
    "import os\n",
    "from typing import Tuple, List, Dict, Any\n",
    "import numpy as np\n",
    "import matplotlib.pyplot as plt\n",
    "\n",
    "# sklearn\n",
    "from sklearn.datasets import make_moons\n",
    "from sklearn.linear_model import LogisticRegression\n",
    "from sklearn.model_selection import train_test_split\n",
    "\n",
    "# Torch\n",
    "import torch\n",
    "import torch.nn as nn\n",
    "import torch.optim as optim\n",
    "import torch.utils.data as data\n",
    "\n",
    "# Keras (Torch) as backend\n",
    "os.environ[\"KERAS_BACKEND\"] = \"torch\"   # IF NOT SPECIFIED, TensorFlow will be used as BACKEND\n",
    "import keras\n",
    "from keras.optimizers import SGD"
   ]
  },
  {
   "cell_type": "markdown",
   "id": "340246d6-346a-4ea1-9dd7-83aec256f5e2",
   "metadata": {},
   "source": [
    "# Under construction\n",
    "<font color=\"red\"><b>Author: Wim R.M. Cardoen (wcardoen@gmail.com)</b></font><br>\n",
    "If you stumble by chance on this website and find errors, have comments/suggestions, please send \n",
    "an email to the author!<br>"
   ]
  },
  {
   "cell_type": "markdown",
   "id": "d5f7bb8d-ed30-4f4a-a576-e5f977fe4888",
   "metadata": {},
   "source": [
    "# Logistic regression using Keras & PyTorch\n",
    "* For <font color=\"green\"><b>more advanced networks</b></font> most AI/deep learing practitioners:\n",
    "  - neither derive the underlying equations.\n",
    "  - nor implement these equations from scratch.<br>\n",
    "  although it is not particularly complex.\n",
    "* However, implementing <font color=\"green\"><b>highly performant code</b></font>\n",
    "  for the general case is significantly more <font color=\"green\"><b>demanding and time-consuming</b></font>.<br>It requires:\n",
    "  - Mastery of a <font color=\"red\"><b>compiled language</b></font> (e.g., `C++`)\n",
    "  - Understanding of <font color=\"red\"><b>parallel computing</b></font> (multi-node, multi-GPU setups).\n",
    "  - A solid foundation in <font color=\"red\"><b>algorithms and numerical analysis</b></font>.\n",
    "* To address these kind of challenges, humanity adopted over time a\n",
    "  <a href=\"https://www.marxists.org/reference/archive/smith-adam/works/wealth-of-nations/book01/ch01.htm\"><b>division of labour</b></a>.   \n",
    "* Instead of building everything from scratch, practitioners rely on <font color=\"green\"><b>frameworks</b></font>.<br>The most commonly used frameworks are currently:\n",
    "  - <a href=\"https://pytorch.org/\"><b>PyTorch</b></a>\n",
    "  - <a href=\"https://www.tensorflow.org/\"><b>TensorFlow</b></a>\n",
    "  - <a href=\"https://docs.jax.dev/en/latest/\"><b>Jax</b></a>\n",
    "  - <a href=\"https://keras.io/\"><b>Keras</b></a>\n",
    "  \n",
    "Our goal is to implement the logistic regression model (<a href=\"./lecture1.ipynb\"><b>Lecture 1</b></a>) using Keras & PyTorch.\n",
    "\n",
    "We will proceed in two different ways:\n",
    "1. by using <font color=\"green\"><b>Keras</b></font> (PyTorch as backend) : more user-friendly \n",
    "2. by using <font color=\"green\"><b>PyTorch</b></font> as such: low-level but versatile.\n",
    "\n",
    "In <a href=\"./lecture2.ipynb\"><b>Lecture 2</b></a> we will use Keras but will also provide its lower level counter part (as addendum)."
   ]
  },
  {
   "cell_type": "code",
   "execution_count": null,
   "id": "9aeac246-3cb3-4ca6-bed2-976bc3d82e04",
   "metadata": {},
   "outputs": [],
   "source": [
    "# Generate a data set\n",
    "X, y = make_moons(n_samples=500, noise=0.25, random_state=42)\n",
    "print(f\"Generate the data set ...\")\n",
    "print(f\"  X.shape:{X.shape}\")\n",
    "print(f\"  y.shape:{y.shape}\")\n",
    "\n",
    "# Split the data in training and a test set.\n",
    "test_ratio = 0.30\n",
    "X_train, X_test, y_train, y_test = train_test_split(\n",
    "    X, y, test_size=test_ratio, random_state=42)\n",
    "print(f\"Splitting the data set (splitting ratio:{test_ratio})\")\n",
    "print(f\"  Training Data Set:\")\n",
    "print(f\"    X_train.shape : {X_train.shape}\")\n",
    "print(f\"    y_train.shape : {y_train.shape}\")\n",
    "print(f\"  Test Data Set:\")\n",
    "print(f\"    X_test.shape  : {X_test.shape}\")\n",
    "print(f\"    y_test.shape  : {y_test.shape}\")"
   ]
  },
  {
   "cell_type": "markdown",
   "id": "5963890e-8640-428e-b3f9-c4885cd489d5",
   "metadata": {},
   "source": [
    "# 1.Keras (with PyTorch backend)"
   ]
  },
  {
   "cell_type": "markdown",
   "id": "49bbf9fe-28ad-47b3-bebe-cbd3eb211a5e",
   "metadata": {},
   "source": [
    "### A.Set up the model"
   ]
  },
  {
   "cell_type": "code",
   "execution_count": null,
   "id": "3c9fe847-3467-425e-ae0c-31fe76d5deb8",
   "metadata": {},
   "outputs": [],
   "source": [
    "# Setting up the model\n",
    "model = keras.Sequential([\n",
    "          keras.layers.Input(shape=(2,)),                      # Input layer: input vector (2 features)\n",
    "          keras.layers.Dense(units=1, activation='sigmoid')])  # Output layer: 1 Class\n",
    "print(model.summary())\n",
    "\n",
    "# Info on kernel_regularization, etc.\n",
    "print(f\"Info on the layers ...\")\n",
    "for layer in model.layers:\n",
    "    print(f\"  Layer:'{layer.name}'\")\n",
    "    print(layer.get_config())"
   ]
  },
  {
   "cell_type": "markdown",
   "id": "91c6d5b4-eba9-40ea-8ffd-233ab0fe1207",
   "metadata": {},
   "source": [
    "### B.Compile the model"
   ]
  },
  {
   "cell_type": "code",
   "execution_count": null,
   "id": "75f8fd65-9f89-451e-a7d2-0a8e8ef41bf4",
   "metadata": {},
   "outputs": [],
   "source": [
    "# Compilation of the model\n",
    "optimizer=SGD(learning_rate=0.075)\n",
    "model.compile(optimizer=optimizer, loss='binary_crossentropy', metrics=['accuracy'])\n",
    "\n",
    "print(f\"Compilation models\")\n",
    "print(f\"  Optimizer: {model.optimizer}\")\n",
    "print(f\"  Optimizer Config: {model.optimizer.get_config()}\")\n",
    "print(f\"  Loss Function: {model.loss}\")\n",
    "print(f\"  Metrics: {model.metrics}\")"
   ]
  },
  {
   "cell_type": "markdown",
   "id": "ad52b256-5d8f-49e0-926f-d543b6529c7d",
   "metadata": {},
   "source": [
    "### C.Train the model"
   ]
  },
  {
   "cell_type": "code",
   "execution_count": null,
   "id": "feac98c2-de9f-44a0-92ee-c44bae91927b",
   "metadata": {},
   "outputs": [],
   "source": [
    "# Fit the model\n",
    "history = model.fit(X_train, y_train, epochs=1000, verbose=0)\n",
    "#print(history.history)\n",
    "loss = history.history['loss']\n",
    "accuracy=history.history['accuracy']\n",
    "it = np.arange(len(loss))+1"
   ]
  },
  {
   "cell_type": "code",
   "execution_count": null,
   "id": "03202081-e0d0-46f2-8d61-33ebfb4af09b",
   "metadata": {},
   "outputs": [],
   "source": [
    "plt.title(\"Loss of the training data\")\n",
    "plt.xlabel(\"epoch\")\n",
    "plt.ylabel(\"loss\")\n",
    "plt.plot(it,loss,\"-\")\n",
    "plt.show()"
   ]
  },
  {
   "cell_type": "code",
   "execution_count": null,
   "id": "ad15a525-a289-4c80-9d1f-befd5e2932b6",
   "metadata": {},
   "outputs": [],
   "source": [
    "# Final weights and bias\n",
    "print(f\"Parameters at the end of the training\")\n",
    "for layer in model.layers:\n",
    "    weights, biases = layer.get_weights()\n",
    "    print(f\"  Layer   : {layer.name}\")\n",
    "    print(f\"  Weights : {np.ravel(weights)}\")\n",
    "    print(f\"  Bias    : {biases}\")"
   ]
  },
  {
   "cell_type": "markdown",
   "id": "996cd386-c412-4b3a-b8a5-54b2c421fdd0",
   "metadata": {},
   "source": [
    "### D.Evalution of the model"
   ]
  },
  {
   "cell_type": "code",
   "execution_count": null,
   "id": "ac992dde-fc44-4884-8e59-97b9ee777ab4",
   "metadata": {},
   "outputs": [],
   "source": [
    "test_loss, test_accuracy = model.evaluate(X_test, y_test)\n",
    "print(f\"Evaluation of the test set\")\n",
    "print(f\"  Accuracy : {test_accuracy:8.4f}\")\n",
    "print(f\"  Loss     : {test_loss:8.4f}\")"
   ]
  },
  {
   "cell_type": "markdown",
   "id": "0d3a4da2-c8cb-457d-b510-2d557769b175",
   "metadata": {},
   "source": [
    "# 2.PyTorch"
   ]
  },
  {
   "cell_type": "markdown",
   "id": "db2ba59b-d299-49d1-9f0e-ee546657913c",
   "metadata": {},
   "source": [
    "### A.Loading the data\n",
    "* We have 2 PyTorch data classes (to be discussed later):\n",
    "  + data.Dataset : to load/create data in a class<br>\n",
    "    requires: \\_\\_init\\_\\_(), \\_\\_len\\_\\_(), \\_\\_getitem\\_\\_()\n",
    "  + data.DataLoader:: to load data in batches\n",
    "* For the time being (conversion to PyTorch Tensor)"
   ]
  },
  {
   "cell_type": "code",
   "execution_count": null,
   "id": "138b0abe-2f46-4349-a7ab-7d530a673784",
   "metadata": {},
   "outputs": [],
   "source": [
    "# Generate the PyTorch Tensors from the NumPy Data\n",
    "# Note: default torch.float32\n",
    "X_train_tensor = torch.tensor(X_train, dtype=torch.float32)\n",
    "y_train_tensor = torch.tensor(y_train, dtype=torch.float32).view(-1,1)  # 2D \n",
    "X_test_tensor = torch.tensor(X_test, dtype=torch.float32)\n",
    "y_test_tensor = torch.tensor(y_test, dtype=torch.float32).view(-1,1)    # 2D"
   ]
  },
  {
   "cell_type": "code",
   "execution_count": null,
   "id": "593a282d-7154-4cfc-8af1-021cd7e8f626",
   "metadata": {},
   "outputs": [],
   "source": [
    "# Check Conversion from NumPy to PyTorch Tensor\n",
    "START, END= 0, 2\n",
    "print(f\"NumPy data::\")\n",
    "print(f\"  X_train: {X_train.shape}\\n{X_train[START:END]}\")\n",
    "print(f\"  y_train: {y_train.shape}\\n{y_train[START:END]}\")\n",
    "print(f\"\\nPyTorch data::\")\n",
    "print(f\"  X_train_tensor: {X_train_tensor.shape}\\n{X_train_tensor[START:END]}\")\n",
    "print(f\"  y_train_tensor: {y_train_tensor.shape}\\n{y_train_tensor[START:END]}\")"
   ]
  },
  {
   "cell_type": "markdown",
   "id": "bc197963-abb7-4e21-a87a-1313a5c318a6",
   "metadata": {},
   "source": [
    "### B.The Deep Neural Net (DNN) Model"
   ]
  },
  {
   "cell_type": "code",
   "execution_count": null,
   "id": "872f0b4c-90c6-42bd-8999-39f4c3bdb1b6",
   "metadata": {},
   "outputs": [],
   "source": [
    "# Define the logistic Regression module using PyTorch\n",
    "class LogisticRegressionModel1(nn.Module):\n",
    "\n",
    "    def __init__(self, num_inputs):\n",
    "\n",
    "        # The class inherits from the class nn.Module\n",
    "        super(LogisticRegressionModel1,self).__init__()\n",
    "\n",
    "        # Define a Single LAYER object which connects \n",
    "        #     the input with 1 single output \n",
    "        self.linear = nn.Linear(num_inputs, 1)\n",
    "\n",
    "        # Create the ACTIVATION (object) for the Single Layer\n",
    "        self.act_fn = nn.Sigmoid()\n",
    "\n",
    "    def forward(self, x):\n",
    "\n",
    "        # Applies the forward propagation\n",
    "        z = self.linear(x)\n",
    "        a = self.act_fn(z)\n",
    "        return a"
   ]
  },
  {
   "cell_type": "code",
   "execution_count": null,
   "id": "e33762e7-caa2-41c5-85bb-d3af7dc7e35f",
   "metadata": {},
   "outputs": [],
   "source": [
    "model1 = LogisticRegressionModel1(num_inputs=2)\n",
    "print(f\"  Logistic Model:{model1}\")"
   ]
  },
  {
   "cell_type": "code",
   "execution_count": null,
   "id": "c3f833ee-138a-4c71-abe3-82b1e5aec1c6",
   "metadata": {},
   "outputs": [],
   "source": [
    "# In PyTorch, you can use either the parameters() function\n",
    "# or the names_parameters() function\n",
    "for name, param in model1.named_parameters():\n",
    "    print(f\"Name:{name:20s} -> param:{param.shape}\")\n",
    "    print(f\"{param.data}\\n\")  "
   ]
  },
  {
   "cell_type": "markdown",
   "id": "c1e37927-445f-4aac-9c32-ab9145f1cbfb",
   "metadata": {},
   "source": [
    "### C.Loss/Objective function\n",
    "* In order to find the <font color=\"green\"><b>optimal parameters</b></font> for the weights and bias, we need\n",
    "  to have an <font color=\"green\"><b>objective function</b></font> (a.k.a Loss function)\n",
    "* There are several options:\n",
    "  + <a href=\"https://docs.pytorch.org/docs/stable/generated/torch.nn.BCELoss.html#bceloss\"><b>nn.BCELoss()</b></a>: Binary Cross entropy => inputs need to be $[0,1]$\n",
    "  + <a href=\"https://docs.pytorch.org/docs/stable/generated/torch.nn.BCEWithLogitsLoss.html#torch.nn.BCEWithLogitsLoss\"><b>nn.BCEWithLogitLoss()</b></a>: Numerically more stable because of the combination of sigmoid and loss function at once."
   ]
  },
  {
   "cell_type": "code",
   "execution_count": null,
   "id": "a17cb990-6c6d-4b2d-8726-f5e8ef3623d6",
   "metadata": {},
   "outputs": [],
   "source": [
    "# Creates an instance of the Binary Cross Entropy Criterion\n",
    "loss_fn1 = nn.BCELoss()"
   ]
  },
  {
   "cell_type": "markdown",
   "id": "24295432-ce38-4ebd-9557-3b0ff81d049a",
   "metadata": {},
   "source": [
    "### D.Optimization\n",
    "* There are several methods to <font color=\"green\"><b>optimize</b></font> the Loss function/Objective function.<br>\n",
    "  - In this example we will use the <a href=\"https://docs.pytorch.org/docs/stable/generated/torch.optim.SGD.html#sgd\"><b>Stochastic Gradient Descent (SGD)</b></a> method<br>\n",
    "    (<a href=\"https://docs.pytorch.org/docs/stable/optim.html\"><b>torch.optim module</b></a>).\n",
    "  - Later on, we will describe more powerful <font color=\"green\"><b>optimization algorithms</b></font> (Adam, ...).\n",
    "* Useful methods:\n",
    "  + step(): method update parameters\n",
    "  + zero_grad() : sets the gradients of ALL optimized parameters to zero."
   ]
  },
  {
   "cell_type": "code",
   "execution_count": null,
   "id": "00445b61-2484-4c71-8f76-d8c54758efc2",
   "metadata": {},
   "outputs": [],
   "source": [
    "optim1 = optim.SGD(model1.parameters(), lr=0.005)"
   ]
  },
  {
   "cell_type": "markdown",
   "id": "b78eacc1-9656-402f-8b53-3bb86b03881c",
   "metadata": {},
   "source": [
    "### E.Assembling the components \\{A,B,C,D\\}"
   ]
  },
  {
   "cell_type": "markdown",
   "id": "1bd6747b-5400-4995-90e1-718fc0dcd6e2",
   "metadata": {},
   "source": [
    "#### 1.Training\n",
    "* Goal: Obtain the optimized parameters i.e. <font color=\"green\"><b>weight matrix</b></font> and <font color=\"green\"><b>bias</b></font>\n",
    "* If the data set is **small**, then we will use **all** the training data at **once**.\n",
    "* Terminology:\n",
    "  - **One** complete iteration over **all** training data: <font color=\"green\"><b>epoch</b></font>\n",
    "  - For **larger** training data sets, each <font color=\"green\"><b>epoch</b></font> is split into <font color=\"green\"><b>batches</b></font>.<br>\n",
    "    * The gradient and the parameters are <font color=\"blue\"><b>updated</b></font> after every batch (points are selected <font color=\"blue\"><b>randomly</b></font>):<br>\n",
    "      <font color=\"green\"><b>stochastic gradient descent (SGD)</b></font>\n",
    "    * The batch size is a <font color=\"green\"><b>hyperparameter</b></font>. "
   ]
  },
  {
   "cell_type": "code",
   "execution_count": null,
   "id": "2f75a1e4-75c4-47e7-9715-9f03657a6fb4",
   "metadata": {},
   "outputs": [],
   "source": [
    "def train_model(X_train_tensor, y_train_tensor, model, loss_fn, optim, num_epochs=100000 , delta_print=10000):\n",
    "    \"\"\"\"\n",
    "    Function which trains the model\n",
    "    \"\"\"\n",
    "    \n",
    "    # Set model to train mode\n",
    "    # Strictly not necessary for our case \n",
    "    model.train()\n",
    "\n",
    "    # Loop over the epochs\n",
    "    for epoch in range(num_epochs):\n",
    "\n",
    "        # PART A: FORWARD PROPAGATION ( => )\n",
    "        # Step 1: Generate the output (activation of the linear layer)\n",
    "        output = model(X_train_tensor)\n",
    "\n",
    "        # Step 2: Use the activation of the last layer & the labels\n",
    "        #         to calculate the loss.\n",
    "        loss = loss_fn(output, y_train_tensor)\n",
    "\n",
    "        # Step B: BACK PROPAGATION ( <= )\n",
    "        # Step 3: Calculate the gradients of the parameters\n",
    "        optim.zero_grad()   # Init. the gradients to ZERO!!\n",
    "        loss.backward()     # Calc. grad. of param.\n",
    "\n",
    "        # Step 4: Adjust the parameters \n",
    "        optim.step()\n",
    "\n",
    "        if (epoch+1)%delta_print == 0 or epoch==0:\n",
    "           print(f\"  Epoch {epoch+1}/{num_epochs}  Loss:{loss.item():.6f}\")\n",
    "                \n",
    "    return loss.item()       "
   ]
  },
  {
   "cell_type": "code",
   "execution_count": null,
   "id": "4deac211-6416-43c3-a296-ff7066de3eca",
   "metadata": {},
   "outputs": [],
   "source": [
    "# Train the model\n",
    "\n",
    "final_loss1 = train_model(X_train_tensor, y_train_tensor, model1, loss_fn1, optim1)\n",
    "print(f\"Loss in the last step:{final_loss1:.6f}\")"
   ]
  },
  {
   "cell_type": "code",
   "execution_count": null,
   "id": "8a76000b-3ef8-4003-9358-5dd881c31f9d",
   "metadata": {},
   "outputs": [],
   "source": [
    "# HOW TO Check the final parameters\n",
    "#   Method 1:\n",
    "print(f\"METHOD 1::\")\n",
    "print(f\"Weights::\\n{model1.linear.weight}\\n\")\n",
    "print(f\"Bias   ::\\n{model1.linear.bias}\")\n",
    "\n",
    "print(f\"\\nMETHOD 2::\")\n",
    "for name, param in model1.state_dict().items():\n",
    "    print(f\"{name} -> {param.shape}\")\n",
    "    print(f\"  {param.data}\")"
   ]
  },
  {
   "cell_type": "markdown",
   "id": "bb2b6fc7-23f5-4431-9e98-56386149effd",
   "metadata": {},
   "source": [
    "#### 2.Save/load the model to & from disk\n",
    "* To <font color=\"green\"><b>save</b></font> an object to disk, use <a href=\"https://docs.pytorch.org/docs/stable/generated/torch.save.html#torch-save\"><b>torch.save()</b></a>\n",
    "* To <font color=\"green\"><b>load</b></font> an object from disk, use <a href=\"https://docs.pytorch.org/docs/stable/generated/torch.load.html#torch-load\"><b>torch.load()</b></a>"
   ]
  },
  {
   "cell_type": "code",
   "execution_count": null,
   "id": "64e1621c-87c0-4487-8336-b27519031894",
   "metadata": {},
   "outputs": [],
   "source": [
    "filename='linreg1.pth'\n",
    "torch.save(model, filename)\n",
    "newmodel = torch.load(filename, weights_only=False)"
   ]
  },
  {
   "cell_type": "markdown",
   "id": "fb8a0f91-2301-4012-a13d-dfc560be46e2",
   "metadata": {},
   "source": [
    "#### 3.Obtain predictions"
   ]
  },
  {
   "cell_type": "code",
   "execution_count": null,
   "id": "aa9c9247-bcb5-4291-86b3-9b6fb0f5d660",
   "metadata": {},
   "outputs": [],
   "source": [
    "def test_model(X_tensor, y_tensor, model):\n",
    "\n",
    "    model.eval()\n",
    "    with torch.no_grad():\n",
    "        res_tensor = model(X_tensor)\n",
    "        ypred_tensor =(res_tensor>0.5).float()\n",
    "    return ypred_tensor    \n",
    "\n",
    "def get_accuracy(y_pred, y):\n",
    "    num_ok = float((y_pred == y).sum())\n",
    "    return (num_ok / y_pred.shape[0]) * 100.0"
   ]
  },
  {
   "cell_type": "code",
   "execution_count": null,
   "id": "38f80995-21d5-4917-a824-0194a47ee851",
   "metadata": {},
   "outputs": [],
   "source": [
    "y_trainpred_tensor = test_model(X_train_tensor, y_train_tensor, newmodel)\n",
    "acc_train = get_accuracy(y_trainpred_tensor, y_train_tensor)\n",
    "print(f\"Accuracy train:{acc_train:8.4f}\")\n",
    "\n",
    "y_testpred_tensor = test_model(X_test_tensor, y_test_tensor, newmodel)\n",
    "acc_test = get_accuracy(y_testpred_tensor, y_test_tensor)\n",
    "print(f\"Accuracy test:{acc_test:8.4f}\")"
   ]
  },
  {
   "cell_type": "markdown",
   "id": "cba7f7f9-cc94-40d5-8716-1a078bd98a8d",
   "metadata": {},
   "source": [
    "### F. Alternative implementation within PyTorch (numerical stability)"
   ]
  },
  {
   "cell_type": "markdown",
   "id": "13365877-aa9a-4cb1-9ae2-f449f2e530fe",
   "metadata": {},
   "source": [
    "In the previous section, we implemented the \n",
    "* <font color=\"green\"><b>activation function</b></font> $a_i$, i.e.<br>\n",
    "  $\\begin{eqnarray}\n",
    "     a_i & = & \\sigma(z_i)\\\\\n",
    "         & = & \\frac{1}{1+e^{-z_i}} \\\\\n",
    "  \\end{eqnarray}$\n",
    "* loss function $\\mathcal{L}^{(i)}$, i.e.<br>\n",
    "  $\\begin{eqnarray}\n",
    "       \\mathcal{L}^{(i)} & = & - \\bigg [ y_i \\log(a_i) + (1-y_i)\\log(1-a_i) \\bigg ] \n",
    "  \\end{eqnarray}$<br>\n",
    "separately.\n",
    "\n",
    "To render the <font color=\"green\"><b>optimization numerically more stable</b></font> the <font color=\"green\"><b>activation and the loss function</b></font> can be combined into **one** function.<br>\n",
    "The corresponding loss function bears the name <a href=\"https://docs.pytorch.org/docs/stable/generated/torch.nn.BCEWithLogitsLoss.html#torch.nn.BCEWithLogitsLoss\"><b>BCEWithLogitsLoss</b></a>\n",
    "and is given by:\n",
    "\n",
    "$\\begin{eqnarray}\n",
    "  \\mathcal{L}^{(i)} & = & -\\bigg [ y_i \\log(a_i) + (1-y_i)\\log(1-a_i) \\bigg ]\\\\ \n",
    "                    & = & z_i(1-y_i) + \\log(1+e^{-z_i}) \\\\\n",
    "\\end{eqnarray}$"
   ]
  },
  {
   "cell_type": "markdown",
   "id": "6546feea-cd34-46a6-8b13-801452734d44",
   "metadata": {},
   "source": [
    "#### **Exercise 1**:\n",
    "* Implement the `class LogisticRegressionModel2(nn.Module)`"
   ]
  },
  {
   "cell_type": "code",
   "execution_count": null,
   "id": "9695a53a-2235-4737-9d00-96b908d4991c",
   "metadata": {},
   "outputs": [],
   "source": [
    "# Define the logistic Regression module using PyTorch \n",
    "class LogisticRegressionModel2(nn.Module):\n",
    "\n",
    "    def __init__(self, num_inputs):\n",
    "\n",
    "        # The class inherits from the class nn.Module\n",
    "        super(LogisticRegressionModel2,self).__init__()\n",
    "\n",
    "        # <--- YOUR CODE\n",
    "\n",
    "    def forward(self, x):\n",
    "\n",
    "        # Applies the forward propagation\n",
    "        # <--- YOUR CODE"
   ]
  },
  {
   "cell_type": "code",
   "execution_count": null,
   "id": "7427e650-c454-4a32-9e11-bd846b0a57d0",
   "metadata": {},
   "outputs": [],
   "source": [
    "# %load solutions/kerastorch/sol_ex1.py"
   ]
  },
  {
   "cell_type": "markdown",
   "id": "d025b52c-ef20-474f-8d78-924764afaee2",
   "metadata": {},
   "source": [
    "Check the model <font color=\"blue\"><b>(ante optimization)</b></font>"
   ]
  },
  {
   "cell_type": "code",
   "execution_count": null,
   "id": "4d0eaa0a-6a45-48e3-9e78-47028c2f58d5",
   "metadata": {},
   "outputs": [],
   "source": [
    "model2 = LogisticRegressionModel2(num_inputs=2)\n",
    "print(f\"  Logistic Model:{model2}\")\n",
    "\n",
    "for name, param in model2.named_parameters():\n",
    "    print(f\"Name:{name:20s} -> param:{param.shape}\")\n",
    "    print(f\"{param.data}\\n\")"
   ]
  },
  {
   "cell_type": "markdown",
   "id": "c0477716-cae5-4436-bb13-26bfa14d63f2",
   "metadata": {},
   "source": [
    "#### **Exercise 2**:\n",
    "* Implement the `loss_fn2` using BCEWithLogitsLoss"
   ]
  },
  {
   "cell_type": "code",
   "execution_count": null,
   "id": "588ea3a8-0d0f-4ccd-8a35-695ba436daf8",
   "metadata": {},
   "outputs": [],
   "source": [
    "# Here comes your code to define the BCEWithLogitsLoss\n",
    "loss_fn2 = # <--- Here comes your code"
   ]
  },
  {
   "cell_type": "code",
   "execution_count": null,
   "id": "92a9373f-328d-4fa1-9f06-9d645ceb0a86",
   "metadata": {},
   "outputs": [],
   "source": [
    "# %load solutions/kerastorch/sol_ex2.py"
   ]
  },
  {
   "cell_type": "code",
   "execution_count": null,
   "id": "a8f7506d-ffd3-4f42-9e5c-d61dee98da2e",
   "metadata": {},
   "outputs": [],
   "source": [
    "optim2 = optim.SGD(model2.parameters(), lr=0.005)\n",
    "final_loss2 = train_model(X_train_tensor, y_train_tensor, model2, loss_fn2, optim2)\n",
    "print(f\"Loss in the last step:{final_loss2:.6f}\")"
   ]
  },
  {
   "cell_type": "markdown",
   "id": "3d09f515-1065-4855-b232-b7948dedddf1",
   "metadata": {},
   "source": [
    "Check the model <font color=\"blue\"><b>(post optimization)</b></font>"
   ]
  },
  {
   "cell_type": "code",
   "execution_count": null,
   "id": "d07ae834-2ca9-47b8-b33b-eb7effda5f37",
   "metadata": {},
   "outputs": [],
   "source": [
    "for name, param in model2.named_parameters():\n",
    "    print(f\"Name:{name:20s} -> param:{param.shape}\")\n",
    "    print(f\"{param.data}\\n\")"
   ]
  }
 ],
 "metadata": {
  "kernelspec": {
   "display_name": "Python 3 (ipykernel)",
   "language": "python",
   "name": "python3"
  },
  "language_info": {
   "codemirror_mode": {
    "name": "ipython",
    "version": 3
   },
   "file_extension": ".py",
   "mimetype": "text/x-python",
   "name": "python",
   "nbconvert_exporter": "python",
   "pygments_lexer": "ipython3",
   "version": "3.13.5"
  }
 },
 "nbformat": 4,
 "nbformat_minor": 5
}
