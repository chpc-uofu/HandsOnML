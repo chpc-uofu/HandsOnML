{
 "cells": [
  {
   "cell_type": "code",
   "execution_count": 2,
   "id": "12cb4c0a-e099-446b-9097-6e31656f66e7",
   "metadata": {},
   "outputs": [],
   "source": [
    "import numpy as np\n",
    "import matplotlib.pyplot as plt"
   ]
  },
  {
   "cell_type": "markdown",
   "id": "ddc3c2d9-2d9c-4cfb-8609-8348c91a79b5",
   "metadata": {},
   "source": [
    "# Hands-on Introduction to Deep Learning (Lecture 1)\n",
    "<font color=\"red\"><b>Under construction!!</b></font>"
   ]
  },
  {
   "cell_type": "markdown",
   "id": "4de10ba2-006d-4562-b42e-71e6bf25f57d",
   "metadata": {},
   "source": [
    "The **prereqs** are kept (on purpose) to a minimum, i.e.:\n",
    "- Basic knowledge of <font color=\"blue\"><b>derivatives and the chain rule</b></font>.\n",
    "- Ability to perform <font color=\"blue\"><b>simple matrix operations</b></font> (multiplication, transpose,..).\n",
    "- Knowledge of <a href=\"https://www.python.org\">Python</a> and <a href=\"https://www.numpy.org\">NumPy</a>.<br>\n",
    "  CHPC provides courses on these topics. You can find them at:<br>\n",
    "  + <a href=\"https://github.com/chpc-uofu/python-lectures\">Introduction to Python</a>\n",
    "  + <a href=\"https://github.com/chpc-uofu/intro-numpy\">Introduction to NumPy & SciPy</a>\n",
    "\n",
    "Note:<br>\n",
    "- If you want to know/investigate the mathematical details of DL, feel free to ask me (wim.cardoen@utah.edu). <br>\n",
    "  We can discuss these topics outside this lecture."
   ]
  },
  {
   "cell_type": "markdown",
   "id": "7d4944a1-b79a-4744-8060-ea4c235b088a",
   "metadata": {},
   "source": [
    "Sketch of the introduction (<font color=\"red\"><b> To be elaborated further</b></font>)\n",
    "\n",
    "* What is AI? What are some of the approaches: logic, rule-based methods,...\n",
    "* What is ML?\n",
    "* Difference between supervised learning, semi-supervised and unsupervised learning.\n",
    "  Give an examples of each of them.\n",
    "* Deeplearning: in essence an old idea but why did it take off the last few years?\n",
    "  - Amount of available data\n",
    "  - Advent of GPUs which are perfect for this approach"
   ]
  },
  {
   "cell_type": "markdown",
   "id": "d23f7584-022f-4245-9e7f-a41be94b95cb",
   "metadata": {},
   "source": [
    "# 2. The concept of a neuron/perceptron"
   ]
  },
  {
   "cell_type": "markdown",
   "id": "61d882f1-44cd-4c07-88f4-bbe916a2b81f",
   "metadata": {},
   "source": [
    "A neuron:\n",
    "- fundamental unit of the nervous system\n",
    "- <font color=\"red\"><b>find a schematic picture in physiology book</b></font> (dendrites, axon and cell nucleus).\n",
    "- give rise to the concept of perceptron (Rosenblatt, 1957)\n",
    "  \n",
    "In essence, a <font color=\"green\"><b>perceptron</b></font> is a **non-linear function** $f$ \n",
    "(<font color=\"green\"><b>activation function</b></font>)<br>\n",
    "which operates on an input and returns an output.\n",
    "\n",
    "Or mathematically, $\\textbf{y}=f(\\textbf{x})$, where:\n",
    "* $f$: non-linear/activation function\n",
    "* $\\textbf{x} \\in \\mathbb{R}^{n_1 \\times 1}$: input vector i.e. $\\textbf{x}:=(x_1,x_2,\\ldots, x_{n_1})^T$.\n",
    "* $\\textbf{y} \\in \\mathbb{R}^{n_2 \\times 1}$: output vector i.e. $\\textbf{y}:=(y_1,y_2,\\ldots, y_{n_2})^T$."
   ]
  },
  {
   "cell_type": "markdown",
   "id": "870c794f-0f7f-41ad-97c7-e78183d50381",
   "metadata": {},
   "source": [
    "In what follows we will perform \n",
    "<font color=\"green\"><b>logistic regression</b></font> (<font color=\"orangered\">ones of the most simple neural net possible</font>) on a simple data set. <br>This simple toy model/example will allow us:\n",
    "* to show the <b>essential features</b> of deep learning.\n",
    "* to easily transition to the <b>general case</b>."
   ]
  },
  {
   "cell_type": "markdown",
   "id": "1120457c-3455-4232-b073-88535a6353e5",
   "metadata": {},
   "source": [
    "# 3.Logistic Regression (as the most simple neural net!)"
   ]
  },
  {
   "cell_type": "markdown",
   "id": "f0c8de40-fba1-4dfc-9d6d-1e56b4b26c01",
   "metadata": {},
   "source": [
    "## 3.1. Goal/Task"
   ]
  },
  {
   "cell_type": "markdown",
   "id": "0d3cd79c-84fd-4c33-9505-978b0d855fb8",
   "metadata": {},
   "source": [
    "* To train a <font color=\"green\"><b>binary classifier</b></font> based on a given training set\n",
    "  <br>and **one perceptron** (<font color=\"green\"><b>one unit</b></font>) in just <font color=\"green\"><b>one layer</b></font>.\n",
    "* To obtain the <font color=\"green\"><b>accuracy</b></font> of the trained model using a test set.\n",
    "* To <font color=\"green\"><b>predict</b></font> the outcome of some data (provided) using the model.\n",
    "* To get familiar with some DL net frameworks."
   ]
  },
  {
   "cell_type": "markdown",
   "id": "006a768b-d5d1-408c-adce-55b77bea76d0",
   "metadata": {},
   "source": [
    "## 3.2.Training of the binary classifier"
   ]
  },
  {
   "cell_type": "markdown",
   "id": "3f67970f-c66e-4a96-b1a7-f59d632c80f4",
   "metadata": {},
   "source": [
    "The <font color=\"green\"><b>training</b></font> of a binary classifier (and <font color=\"orangered\">in extenso a deep neural net</font>) \n",
    "consists of the following steps:\n",
    "* **Initialize** the <font color=\"green\"><b>parameters</b></font> (<font color=\"green\"><b>weight vector and bias</b></font>)\n",
    "* Perform an **iterative loop** over the following 2 substeps:\n",
    "\n",
    "  + <font color=\"green\"><b>Forward propagation</b></font>:<br>\n",
    "    Given a training set, and a set of <font color=\"green\"><b>parameters</b></font> (weight vector and bias)\n",
    "    we calculate the associated cost function,\n",
    "    which is a measure how different the predicted data are from the true data.\n",
    "\n",
    "  + <font color=\"green\"><b>Back propagation</b></font>:<br>\n",
    "    Based on the cost function we perform an <font color=\"green\"><b>update</b></font> on the set of<br> parameters (weight vector and bias)\n",
    "    in order to <font color=\"green\"><b>lower</b></font> the cost.\n",
    " \n",
    "\n",
    "The <font color=\"green\"><b>training set</b></font> consists of $m_{\\mathrm{train}}$ data points</b>:<br> $(\\mathbf{x}_i,y_i)$, $i \\in \\{1,\\ldots,m_{\\mathrm{train}}\\}$<br>\n",
    "  where:\n",
    "  - $\\mathbf{x_i}$ is a column vector of length of $n$, i.e. $\\mathbf{x_i} \\in \\mathbb{R}^{n \\times 1}$.<br>\n",
    "    Each dimension of the vector $\\mathbf{x_i}$ represents a <font color=\"green\"><b>feature</b></font> ($\\Rightarrow$ n features).\n",
    "  - $y_i$ is either 0 ($\\texttt{False}$) or 1 ($\\texttt{True}$), i.e. $y_i \\in \\mathbb{R}$.\n",
    "    "
   ]
  },
  {
   "cell_type": "markdown",
   "id": "dea68fc7-b2bb-4d84-836f-83b17ff7db5b",
   "metadata": {},
   "source": [
    "### 3.2.1. Forward Propagation"
   ]
  },
  {
   "cell_type": "markdown",
   "id": "08513926-900d-4719-80da-0c954db6ef78",
   "metadata": {},
   "source": [
    "* At the perceptron (only $\\mathbf{1}$!), each data point $i$ ($i \\in \\{1,\\ldots,m_{\\mathrm{train}}\\}$) will be<br>\n",
    "  subjected to the following $2$ transformations:\n",
    "  1. $\\texttt{affine}$ transformation:<br>\n",
    "       $\\begin{eqnarray}\n",
    "         z_i & = &   \\mathbf{w^T}.\\mathbf{x_i} +b \\;\\;,\\;\\; \\mathbf{x_i} \\in \\mathbb{R}^{n\\times 1}\\\\\n",
    "            &=  &  \\displaystyle{\\sum_{j=1}^n w_j x_{ji} +b}\n",
    "        \\end{eqnarray}$\n",
    "    \n",
    "     where:<br>\n",
    "     - $ \\mathbf{w}$ : <font color=\"green\"><b>weight</b></font> vector ($\\in \\mathbb{R}^{n \\times 1}$)<br>\n",
    "       Note: the weight vector has <font color=\"orangered\">same number of dimensions as there are features</font> .\n",
    "    \n",
    "     - $ b$ : <font color=\"green\"><b>bias</b></font> (scalar $\\Rightarrow \\in \\mathbb{R}$).\n",
    "\n",
    "     - For each data point: the <font color=\"orangered\"> weight vector and bias used at this one perceptron are the same</font>.   \n",
    "  2. subsequent $\\texttt{non linear activation}$:<br>\n",
    "     $a_i =  \\sigma(z_i)$ , $a_i \\in \\mathbb{R}$<br>\n",
    "     where:<br>\n",
    "     - $\\sigma$ is known as the <font color=\"green\"><b>sigmoid</b></font> function.\n",
    "   \n",
    "     - $\\begin{equation}\n",
    "        \\sigma(z) = \\displaystyle \\frac{1}{1+e^{-z}}\n",
    "       \\end{equation}$\n",
    "    \n",
    "     - The activation of the <b>last layer</b> (in this case we only have one layer) is the same<br>\n",
    "       as the predicted value ($\\widehat{y_i})$. Thus, <br>\n",
    "    \n",
    "       $\\begin{equation}\n",
    "       \\widehat{y_i} := a_i\n",
    "       \\end{equation}$\n",
    "   \n",
    "* Calculate the <font color=\"green\"><b>cost function</b></font> ($\\mathcal{C}$).<br>\n",
    "  The cost function $\\mathcal{C}$ is defined as the mean of the <font color=\"green\"><b>loss functions</b></font> ($\\mathcal{L}^{(i)}$) over the $m_{\\mathrm{train}}$ data points:\n",
    "\n",
    "  $\\begin{eqnarray}\n",
    "       \\mathcal{C}       & := & \\displaystyle \\frac{1}{m_{\\mathrm{train}}} \\sum_{i=1}^{m_{\\mathrm{train}}}        \\mathcal{L}^{(i)} \n",
    "  \\end{eqnarray}$\n",
    "  \n",
    "\n",
    "  In case of **binary classification**, the **loss function** $\\mathcal{L}^{(i)}$ for data point $i$ is given by:\n",
    "  \n",
    "  $\\begin{eqnarray}\n",
    "       \\mathcal{L}^{(i)} & = & - \\bigg [ y_i \\log(\\widehat{y_i}) + (1-y_i)\\log(1-\\widehat{y_i}) \\bigg ] \\\\\n",
    "                         & = & - \\bigg [ y_i \\log(a_i) + (1-y_i)\\log(1-a_i) \\bigg ] \\\\\n",
    "  \\end{eqnarray}$\n"
   ]
  },
  {
   "cell_type": "markdown",
   "id": "0b172780-7a9d-453c-afb5-d2ad93d5fecc",
   "metadata": {},
   "source": [
    "#### Some notes on the sigmoid function"
   ]
  },
  {
   "cell_type": "markdown",
   "id": "a2d2f438-4d4b-4c76-99d6-4c21cd0c6575",
   "metadata": {},
   "source": [
    "The sigmoid function $\\sigma(z)$ has the following properties:\n",
    "\n",
    "* $\n",
    "   \\begin{equation}\n",
    "  \\lim_{ z \\to -\\infty} \\sigma(z) = 0\n",
    "  \\end{equation}$\n",
    "\n",
    "* $\\begin{equation}\n",
    "   \\lim_{ z \\to +\\infty} \\sigma(z) = 1\n",
    "  \\end{equation}$\n",
    "\n",
    "* $\\begin{equation}\n",
    "   \\sigma(0) = \\frac{1}{2}\n",
    "  \\end{equation}$\n",
    "\n",
    "* $\\begin{equation}\n",
    "  \\displaystyle \\frac{d \\sigma(z)}{dz} = \\sigma(z)(1-\\sigma(z))\n",
    "  \\end{equation}$\n",
    "\n",
    "The range of the sigmoid is $[0,1]$ and thus be interpreted as a <font color=\"green\"><b>probability</b></font>.\n",
    "  "
   ]
  },
  {
   "cell_type": "code",
   "execution_count": 23,
   "id": "edb4aa30-ee02-4bda-9616-e22d1a0016b2",
   "metadata": {},
   "outputs": [
    {
     "data": {
      "image/png": "[encoded data removed]",
      "text/plain": [
       "<Figure size 640x480 with 1 Axes>"
      ]
     },
     "metadata": {},
     "output_type": "display_data"
    }
   ],
   "source": [
    "x = np.linspace(-7.5, 7.5, 1501)\n",
    "y = 1.0/(1.0+np.exp(-x))\n",
    "plt.title(r\"Sigmoid function\")\n",
    "plt.xlabel(r\"$x$\")\n",
    "plt.ylabel(r\"$\\sigma(x)$\",rotation=0)\n",
    "plt.plot(x,y)\n",
    "plt.grid()\n",
    "plt.show()"
   ]
  },
  {
   "cell_type": "markdown",
   "id": "c0b4589c-cc1a-495a-9b87-fe4474317c0b",
   "metadata": {},
   "source": [
    "#### Exercise 1: Implementation of the tools for the forward propagation"
   ]
  },
  {
   "cell_type": "markdown",
   "id": "20b55643-d66f-4291-a423-2bf587c81955",
   "metadata": {},
   "source": [
    "**Implement** the following functions:\n",
    "- a. <font color=\"green\"><b>def init(n: float, m: float) -> np.ndarray, float:</b></font><br>\n",
    "     Returns the initialized weight vector and bias, i.e. (Weight, bias)\n",
    "- b. <font color=\"green\"><b>def sigmoid(z: np.ndarray) -> np.ndarray:</b></font><br>\n",
    "     Returns the sigmoid function applied to each el. of z.\n",
    "- c. <font color=\"green\"><b>def forward(X: np.ndarray, w: np.ndarray, b: float) -> np.ndarray, float</b></font>: <br>\n",
    "     Returns the activation matrix and the cost , i.e. (A,cost)\n",
    "\n",
    "<font color=\"red\"><b>To be worked out further</b></font>  "
   ]
  },
  {
   "cell_type": "markdown",
   "id": "91bf5d42-f8d2-42b9-a6b2-56702ec20e9f",
   "metadata": {},
   "source": [
    "### 3.2.2. Back Propagation"
   ]
  },
  {
   "cell_type": "markdown",
   "id": "697fd5b7-8d51-402b-8340-9f6688f6053a",
   "metadata": {},
   "source": [
    "Our ultimate goal (during the training phase of our model) is to find the <font color=\"green\"><b>optimal values</b></font><br> for the weight vector ($\\widehat{w}$), and the bias ($\\widehat{b}$).<br>\n",
    "  Thus:<br>\n",
    "\n",
    "  $\\begin{equation}\n",
    "     \\widehat{w}, \\widehat{b} = \\underset{w,b}{\\operatorname{argmin}} \\mathcal{C}\n",
    "  \\end{equation}$\n",
    "\n",
    "This goal can be reached iteratively:\n",
    "1. by calculating the <font color=\"green\"><b>direction/gradient</b></font> w.r.t weights and bias which leads to a minimum of the cost function $\\mathcal{C}$).\n",
    "2. by subsequently <font color=\"green\"><b>updating</b></font> the values of the weight vector and the bias along the aforementioned direction.\n",
    "\n",
    "1.Calculate the **gradient of cost function** w.r.t the weights and the bias:\n",
    "  \n",
    "  + $\\begin{eqnarray}\n",
    "      \\frac{\\partial \\mathcal{L}^{(i)}}{\\partial a_i} & = & \\frac{\\partial}{\\partial a_i} \\bigg [ - \\big [ y_i \\log(a_i) + (1-y_i)\\log(1-a_i) \\big ] \\bigg ]\\\\\n",
    "                                                      & = & -\\frac{y_i}{a_i} + \\frac{(1-y_i)}{(1-a_i)}\n",
    "    \\end{eqnarray}$\n",
    " \n",
    "    \n",
    "  + $\\begin{eqnarray}\n",
    "        \\frac{\\partial \\mathcal{L}^{(i)}}{\\partial z_i} & = & \\frac{\\partial \\mathcal{L}^{(i)}}{\\partial a_i} \\frac{\\partial a_i}{\\partial z_i} \\\\\n",
    "         & = & \\frac{\\partial \\mathcal{L}^{(i)}}{\\partial a_i} \\frac{\\partial \\sigma(z_i)}{\\partial z_i} \\\\\n",
    "         & =& a_i - y_i\n",
    "    \\end{eqnarray}$\n",
    " \n",
    "    \n",
    "  + $\\begin{eqnarray}\n",
    "       \\frac{\\partial \\mathcal{L}^{(i)}}{\\partial b} & = & \\frac{\\partial \\mathcal{L}^{(i)}}{\\partial a_i} \\frac{\\partial a_i}{\\partial z_i}\\frac{\\partial z_i}{\\partial b} \\\\\n",
    "                 & = & a_i - y_i\n",
    "    \\end{eqnarray}$\n",
    "  + $\\begin{eqnarray}\n",
    "      \\frac{\\partial \\mathcal{L}^{(i)}}{\\partial w_j} & = & \\frac{\\partial \\mathcal{L}^{(i)}}{\\partial a_i} \\frac{\\partial a_i}{\\partial z_i}\\frac{\\partial z_i}{\\partial w_j} \\\\\n",
    "                 & = & (a_i - y_i) x_{ji}\n",
    "    \\end{eqnarray}$\n",
    "    \n",
    "  Thus, <br>\n",
    "\n",
    "  + $\\begin{eqnarray}\n",
    "     \\frac{\\partial\\mathcal{C}}{\\partial b}  & =   &= & \\frac{1}{m_{\\mathrm{train}}}\\displaystyle \\sum_{i=1}^{m_{\\mathrm{train}}} \\frac{\\partial \\mathcal{L}^{(i)}}{\\partial b}  \n",
    "                                             & = & \\frac{1}{m_{\\mathrm{train}}} \\displaystyle \\sum_{i=1}^{m_{\\mathrm{train}}} (a_i - y_i) \n",
    "     \\end{eqnarray}$\n",
    "\n",
    "  + $\\begin{eqnarray}\n",
    "     \\frac{\\partial\\mathcal{C}}{\\partial w_j}  &= & \\frac{1}{m_{\\mathrm{train}}}\\displaystyle \\sum_{i=1}^{m_{\\mathrm{train}}} \\frac{\\partial \\mathcal{L}^{(i)}}{\\partial b} \n",
    "      & = & \\frac{1}{m_{\\mathrm{train}}} \\displaystyle \\sum_{i=1}^{m_{\\mathrm{train}}} (a_i - y_i) x_{ji} \\;\\;,\\;\\;\\forall \\, j \\in \\{1,\\ldots,n\\}\n",
    "     \\end{eqnarray}$\n",
    "\n",
    "2.**Update** the parameters (using <a href=\"https://en.wikipedia.org/wiki/Gradient_descent\">gradient descent</a>): \n",
    "\n",
    "  $\\begin{eqnarray}\n",
    "      b & = & b - \\alpha  \\frac{\\partial\\mathcal{C}}{\\partial b} \\\\\n",
    "      w_j & = & w_j - \\alpha  \\frac{\\partial\\mathcal{C}}{\\partial w_j} \\;\\;,\\;\\;\\forall \\, j \\in \\{1,\\ldots,n\\}\n",
    "    \\end{eqnarray}$\n",
    "\n",
    "  where $\\alpha$ is known as the <font color=\"green\"><b>learning rate </b></font> or the <font color=\"green\"><b>step size</b></font> (gradient descent).  "
   ]
  },
  {
   "cell_type": "markdown",
   "id": "b21756a2-c036-4368-8243-13ecbe9652f6",
   "metadata": {},
   "source": [
    "#### Exercise 2: Implement the Back propagation tools"
   ]
  },
  {
   "cell_type": "markdown",
   "id": "f151e433-1997-4608-898c-efa13f9f36b6",
   "metadata": {},
   "source": [
    "**Implement** the following functions:\n",
    "\n",
    "* a.<font color=\"green\"><b>def backward(A:np.ndarray, X_train:np.ndarray, Y_train:np.ndarray) -> np.ndarray, float:</b></font><br>\n",
    "    Returns the tuple of gradients: (dWeights,dbias)\n",
    "  \n",
    "* b.<font color=\"green\"><b>def update(Weights: np.ndarray, Bias: float, dWeight: np.ndarray, dbias:float, lr:float) -> np.ndarray, float:       </b></font><br>\n",
    "    Returns the update tuple: (weight,bias)\n",
    "\n",
    "<font color=\"red\"><b>To be worked out further</b></font> "
   ]
  },
  {
   "cell_type": "markdown",
   "id": "554e4590-f75b-4bb9-bace-8a459f639f88",
   "metadata": {},
   "source": [
    "#### Exercise 3: Training (complete)"
   ]
  },
  {
   "cell_type": "markdown",
   "id": "952d38ec-55ef-40e7-9ace-57df9fe6efa2",
   "metadata": {},
   "source": [
    "**Implement** the following function:\n",
    "\n",
    "- a. <font color=\"green\"><b>def training(X_train: nd.array, Y_train: nd.array, lr:float, niter: int) -> nd.array, float:</b></font><br>\n",
    "    Returns the optimized weight vector and bias\n",
    "\n",
    "<font color=\"red\"><b>To be worked out further</b></font>  \n"
   ]
  },
  {
   "cell_type": "markdown",
   "id": "5fdea240-cb4b-46ce-aa40-65cdcb5799f7",
   "metadata": {},
   "source": [
    "## 4. Testing of the binary classifier "
   ]
  },
  {
   "cell_type": "markdown",
   "id": "9450608b-7af0-4d8e-89da-54b3170b8bc8",
   "metadata": {},
   "source": [
    "Once our neural net has been trained, i.e. the <font color=\"green\"><b>optimal values</b></font><br> \n",
    "for the parameters $\\mathbf{w}$ and $b$ (i.e. $\\mathbf{\\widehat{w}}$ and $\\widehat{b}$) are known. <br> \n",
    "We can now test our neural net model using the <font color=\"green\"><b>test data set</b></font>.\n",
    "\n",
    "* Apply the <font color=\"green\"><b> predict </b></font> function the **test data set**.<br>\n",
    "  The **predict** function has $2$ components:\n",
    "  + Apply the **forward** propagation to the test data set but use $\\mathbf{\\widehat{w}}$ and $\\widehat{b}$.\n",
    "  + Map the obtained activation to either $0$ or $1$\n",
    "* Calculate the number of correct predictions vs. total predictions. "
   ]
  },
  {
   "cell_type": "markdown",
   "id": "96817d32-0e68-4dde-86c4-86b89ea41401",
   "metadata": {},
   "source": [
    "### 4.1.Prediction function"
   ]
  },
  {
   "cell_type": "markdown",
   "id": "6eea731e-a660-46a0-b498-4d6fcc99b53a",
   "metadata": {},
   "source": [
    "* The <font color=\"green\"><b>test set</b></font> consists of $m_{\\mathrm{test}}$ test data points</b>:<br> $(\\mathbf{x}_i,y_i)$, $i \\in \\{1,\\ldots,m_{\\mathrm{test}}\\}$<br>\n",
    "  where:\n",
    "  - $\\mathbf{x_i}$ is a column vector of length of $n$, i.e. $\\mathbf{x_i} \\in \\mathbb{R}^{n \\times 1}$.\n",
    "  - $y_i$ is either 0 ($\\texttt{False}$) or 1 ($\\texttt{True}$), i.e. $y_i \\in \\mathbb{R}$.\n",
    "  - These $m_{\\mathrm{test}}$ $\\mathbf{x_i}$ column vectors can be collected in the matrix $X$,<br>\n",
    "    given by:\n",
    "\n",
    "    $\\begin{eqnarray}\n",
    "         X & = & \\begin{pmatrix}\n",
    "                                \\vdots & \\cdots  &\\vdots \\\\\n",
    "                                 \\mathbf{x_1}   & \\vdots  & \\mathbf{x_{\\mathrm{m_{test}}}}  \\\\\n",
    "                                 \\vdots & \\cdots & \\vdots \n",
    "                 \\end{pmatrix}\n",
    "     \\end{eqnarray}$\n",
    "    \n",
    "* Apply <font color=\"green\"><b>forward propagation</b></font> in (matrix) form (efficiency reasons):\n",
    "  - $\\begin{eqnarray}\n",
    "        \\mathbf{z^T} & = & \\mathbf{\\widehat{w}^T}. \\mathbf{X} + \\mathbf{\\widehat{b}^T} \n",
    "     \\end{eqnarray}$\n",
    "     where:\n",
    "     + $\\mathbf{z^T}$ is a row vector of length $m_{\\mathrm{test}}$\n",
    "     + $\\mathbf{\\widehat{w}^T}$ is a row vector (containing $n$ el.) with the optimal weights (obtained from the training)\n",
    "     + $\\mathbf{X}$ is $n \\times m_{\\mathrm{test}}$ matrix.\n",
    "     + $\\mathbf{\\widehat{b}^T}$ is a row vector of length $m_{\\mathrm{test}}$ (each element is $\\widehat{b}$).\n",
    "  - $\\begin{eqnarray}\n",
    "        \\mathbf{a^T} & = & \\sigma(\\mathbf{{z}^T}) \n",
    "     \\end{eqnarray}$\n",
    "    where $\\sigma$ operates element-wise on the row-vector $\\mathbf{z}^T$<br>\n",
    "    to generate the row vector $\\mathbf{a}^T$.\n",
    "* The elements that are predicted ($\\mathbf{a}^T$) are in the interval $[0,1]$.<br>\n",
    "  In order to compare them with the true values, we need to <font color=\"green\"><b>map</b></font> the elements of $\\mathbf{a}^T$ into $\\{0,1\\}$.<br>\n",
    "  in the following way:<br>\n",
    "  $\\begin{equation}\n",
    "    \\widehat{y_i}= \n",
    "\\begin{cases}\n",
    "    1,& \\text{if } a_i > 0.5\\\\\n",
    "    0,              & \\text{otherwise}\n",
    "\\end{cases}\n",
    " \\end{equation}$"
   ]
  },
  {
   "cell_type": "markdown",
   "id": "70332fd8-cade-4760-aa41-d94ff2469a4e",
   "metadata": {},
   "source": [
    "#### Exercise 4: prediction function + accuracy"
   ]
  },
  {
   "cell_type": "markdown",
   "id": "86dcefeb-2a74-4f91-8e1f-3bdddfbe9b14",
   "metadata": {},
   "source": [
    "**Implement** the following functions:\n",
    "\n",
    "* a.<font color=\"green\"><b>def predict(X_test: np.ndarray, Weights: np.ndarray, bias:float) -> np.ndarray:</b></font><br>\n",
    "  Returns the Y_pred vector\n",
    "\n",
    "* b.<font color=\"green\"><b>def accuracy(Y_test: np.ndarray, Y_pred: np.ndarray) -> float:</b></font><br>\n",
    "  Returns the accuracy\n",
    "\n",
    "<font color=\"red\"><b>To be worked out further</b></font>"
   ]
  },
  {
   "cell_type": "markdown",
   "id": "c2549172-cdb5-4ea7-b3d1-fc2d71d0a394",
   "metadata": {},
   "source": [
    "## 5. Putting it all together"
   ]
  },
  {
   "cell_type": "markdown",
   "id": "7606d453-9d22-46ff-ac17-13b1156d1357",
   "metadata": {},
   "source": [
    "Things to be discussed:\n",
    "* Generation of the data set.\n",
    "  + Code provided by me to generate a random data set on which to perform\n",
    "    binary classification\n",
    "  + Split the data in 2 sets: training and testing (code provided by me)\n",
    "* Training: \n",
    "  + Perform the training using the training data using code (Ex.3)\n",
    "* Testing:\n",
    "  + Perform the test using the test data using code (Ex.4)\n",
    "  + Calculate the accuracy using code (Ex. 4)\n",
    "* Visualization of the training data set & plotting of the separating plane (code provided)"
   ]
  },
  {
   "cell_type": "markdown",
   "id": "3c297322-c4c4-4674-a42c-facf8817712b",
   "metadata": {},
   "source": [
    "<font color=\"red\"><b>Note:</b></font><br>\n",
    "* I will provide the complete code (as such) of this section (due to time constraints).\n",
    "* It is more important that people play around with it to see the results."
   ]
  },
  {
   "cell_type": "markdown",
   "id": "0aaa570f-1be6-4a8a-b9e7-257ed48a0647",
   "metadata": {},
   "source": [
    "## 6. Conclusion"
   ]
  },
  {
   "cell_type": "markdown",
   "id": "06040257-1449-476b-a1ff-5854ef2dfb0d",
   "metadata": {},
   "source": [
    "Congratulations!<br>\n",
    "* You have implemented the simplest neural net from scratch.\n",
    "* You have learned that the training of a neural net is (in general) an iterative process \n",
    "  consisting of:\n",
    "  + forward propagation\n",
    "  + backward propagation\n",
    "* Once the training has been done, you can test your neural net.\n",
    "* You can apply your model on new data (from the same distribution)\n",
    "\n",
    "This algorithm is the basic algorithm for **all** neural networks.\n"
   ]
  },
  {
   "cell_type": "markdown",
   "id": "d5f7bb8d-ed30-4f4a-a576-e5f977fe4888",
   "metadata": {},
   "source": [
    "## 7.Perform the same task using PyTorch/Keras"
   ]
  },
  {
   "cell_type": "code",
   "execution_count": null,
   "id": "872f0b4c-90c6-42bd-8999-39f4c3bdb1b6",
   "metadata": {},
   "outputs": [],
   "source": []
  }
 ],
 "metadata": {
  "kernelspec": {
   "display_name": "Python 3 (ipykernel)",
   "language": "python",
   "name": "python3"
  },
  "language_info": {
   "codemirror_mode": {
    "name": "ipython",
    "version": 3
   },
   "file_extension": ".py",
   "mimetype": "text/x-python",
   "name": "python",
   "nbconvert_exporter": "python",
   "pygments_lexer": "ipython3",
   "version": "3.12.2"
  }
 },
 "nbformat": 4,
 "nbformat_minor": 5
}
