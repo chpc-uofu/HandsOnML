{
 "cells": [
  {
   "cell_type": "code",
   "execution_count": 2,
   "id": "12cb4c0a-e099-446b-9097-6e31656f66e7",
   "metadata": {},
   "outputs": [],
   "source": [
    "from typing import Tuple, List, Dict, Any\n",
    "import numpy as np\n",
    "import matplotlib.pyplot as plt\n",
    "from sklearn.datasets import make_moons\n",
    "from sklearn.linear_model import LogisticRegression\n",
    "from sklearn.model_selection import train_test_split"
   ]
  },
  {
   "cell_type": "markdown",
   "id": "ddc3c2d9-2d9c-4cfb-8609-8348c91a79b5",
   "metadata": {
    "editable": true,
    "slideshow": {
     "slide_type": ""
    },
    "tags": []
   },
   "source": [
    "# Hands-on Introduction to Deep Learning (Lecture 1)\n",
    "<font color=\"red\"><b>Under construction!!</b></font>"
   ]
  },
  {
   "cell_type": "markdown",
   "id": "4de10ba2-006d-4562-b42e-71e6bf25f57d",
   "metadata": {},
   "source": [
    "The **prereqs** are kept (on purpose) to a minimum, i.e.:\n",
    "- Basic knowledge of <font color=\"blue\"><b>derivatives and the chain rule</b></font>.\n",
    "- Ability to perform <font color=\"blue\"><b>simple matrix operations</b></font> (dot product, multiplication, transpose).\n",
    "- A decent knowledge of <a href=\"https://www.python.org\">Python</a> and <a href=\"https://www.numpy.org\">NumPy</a>.<br>\n",
    "  CHPC provides courses on these topics. You can find them at:<br>\n",
    "  + <a href=\"https://github.com/chpc-uofu/python-lectures\">Introduction to Python</a>\n",
    "  + <a href=\"https://github.com/chpc-uofu/intro-numpy\">Introduction to NumPy & SciPy</a>\n",
    "\n",
    "Note:<br>\n",
    "- If you want to know/investigate the mathematical details of DL, feel free to ask me (wim.cardoen@utah.edu). <br>\n",
    "  We can discuss these topics outside this lecture."
   ]
  },
  {
   "cell_type": "markdown",
   "id": "7d4944a1-b79a-4744-8060-ea4c235b088a",
   "metadata": {},
   "source": [
    "Sketch of the introduction (<font color=\"red\"><b> To be elaborated further</b></font>)\n",
    "\n",
    "* What is AI? What are some of the approaches: logic, rule-based methods,...\n",
    "* What is ML?\n",
    "* Difference between supervised learning, semi-supervised and unsupervised learning.\n",
    "  Give an examples of each of them.\n",
    "* Deeplearning: in essence an old idea but why did it take off the last few years?\n",
    "  - Amount of available data\n",
    "  - Advent of GPUs which are perfect for this approach"
   ]
  },
  {
   "cell_type": "markdown",
   "id": "d23f7584-022f-4245-9e7f-a41be94b95cb",
   "metadata": {},
   "source": [
    "# 2. The concept of a neuron/perceptron"
   ]
  },
  {
   "cell_type": "markdown",
   "id": "61d882f1-44cd-4c07-88f4-bbe916a2b81f",
   "metadata": {},
   "source": [
    "A neuron:\n",
    "- fundamental unit of the nervous system\n",
    "- <font color=\"red\"><b>find a schematic picture in physiology book</b></font> (dendrites, axon and cell nucleus).\n",
    "- give rise to the concept of perceptron (Rosenblatt, 1957)\n",
    "  \n",
    "In essence, a <font color=\"green\"><b>perceptron</b></font> is a **non-linear function** $f$ \n",
    "(<font color=\"green\"><b>activation function</b></font>)<br>\n",
    "which operates on an input and returns an output.\n",
    "\n",
    "Or mathematically, $\\textbf{y}=f(\\textbf{x})$, where:\n",
    "* $f$: non-linear/activation function\n",
    "* $\\textbf{x} \\in \\mathbb{R}^{n_1 \\times 1}$: input vector i.e. $\\textbf{x}:=(x_1,x_2,\\ldots, x_{n_1})^T$.\n",
    "* $\\textbf{y} \\in \\mathbb{R}^{n_2 \\times 1}$: output vector i.e. $\\textbf{y}:=(y_1,y_2,\\ldots, y_{n_2})^T$."
   ]
  },
  {
   "cell_type": "markdown",
   "id": "870c794f-0f7f-41ad-97c7-e78183d50381",
   "metadata": {},
   "source": [
    "In what follows we will perform \n",
    "<font color=\"green\"><b>logistic regression</b></font> (<font color=\"orangered\">ones of the most simple neural net possible</font>) on a simple data set. <br>This simple toy model/example will allow us:\n",
    "* to show the <b>essential features</b> of deep learning.\n",
    "* to easily transition to the <b>general case</b>."
   ]
  },
  {
   "cell_type": "markdown",
   "id": "1120457c-3455-4232-b073-88535a6353e5",
   "metadata": {},
   "source": [
    "# 3.Logistic Regression (as the most simple neural net!)"
   ]
  },
  {
   "cell_type": "markdown",
   "id": "f0c8de40-fba1-4dfc-9d6d-1e56b4b26c01",
   "metadata": {},
   "source": [
    "## 3.1. Goal/Task"
   ]
  },
  {
   "cell_type": "markdown",
   "id": "0d3cd79c-84fd-4c33-9505-978b0d855fb8",
   "metadata": {},
   "source": [
    "* To train a <font color=\"green\"><b>binary classifier</b></font> based on a given training set\n",
    "  <br>and **one perceptron** (<font color=\"green\"><b>one unit</b></font>) in just <font color=\"green\"><b>one layer</b></font>.\n",
    "* To obtain the <font color=\"green\"><b>accuracy</b></font> of the trained model using a test set.\n",
    "* To <font color=\"green\"><b>predict</b></font> the outcome of some data (provided) using the model.\n",
    "* To get familiar with some DL net frameworks."
   ]
  },
  {
   "cell_type": "markdown",
   "id": "6706610c-9c90-4154-b68e-7bee80962520",
   "metadata": {},
   "source": [
    "<img src=\"perceptron.jpeg\" width=\"300\">"
   ]
  },
  {
   "cell_type": "markdown",
   "id": "006a768b-d5d1-408c-adce-55b77bea76d0",
   "metadata": {},
   "source": [
    "## 3.2.Training of the binary classifier"
   ]
  },
  {
   "cell_type": "markdown",
   "id": "3f67970f-c66e-4a96-b1a7-f59d632c80f4",
   "metadata": {},
   "source": [
    "The <font color=\"green\"><b>training</b></font> of a binary classifier (and <font color=\"orangered\">in extenso a deep neural net</font>) \n",
    "consists of the following steps:\n",
    "* **Initialize** the <font color=\"green\"><b>parameters</b></font> (<font color=\"green\"><b>weight vector and bias</b></font>)\n",
    "* Perform an **iterative loop** over the following 2 substeps:\n",
    "\n",
    "  + <font color=\"green\"><b>Forward propagation</b></font>:<br>\n",
    "    Given a training set, and a set of <font color=\"green\"><b>parameters</b></font> (weight vector and bias)\n",
    "    we calculate the associated cost function,<br>\n",
    "    which is a measure how different the predicted data are from the true data.\n",
    "\n",
    "  + <font color=\"green\"><b>Back propagation</b></font>:<br>\n",
    "    Based on the cost function we perform an <font color=\"green\"><b>update</b></font> on the set of<br> parameters (weight vector and bias)\n",
    "    in order to <font color=\"green\"><b>lower</b></font> the cost.\n",
    " \n",
    "\n",
    "The <font color=\"green\"><b>training set</b></font> consists of $m_{\\mathrm{train}}$ data points</b>:<br> $(\\mathbf{x}_i,y_i)$, $i \\in \\{1,\\ldots,m_{\\mathrm{train}}\\}$<br>\n",
    "  where:\n",
    "  - $\\mathbf{x_i}$ is a column vector of length of $n$, i.e. $\\mathbf{x_i} \\in \\mathbb{R}^{n \\times 1}$.<br>\n",
    "    Each dimension of the vector $\\mathbf{x_i}$ represents a <font color=\"green\"><b>feature</b></font> ($\\Rightarrow$ n features).\n",
    "  - $y_i$ is either 0 ($\\texttt{False}$) or 1 ($\\texttt{True}$), i.e. $y_i \\in \\mathbb{R}$.\n",
    "    "
   ]
  },
  {
   "cell_type": "markdown",
   "id": "dea68fc7-b2bb-4d84-836f-83b17ff7db5b",
   "metadata": {},
   "source": [
    "### 3.2.1. Forward Propagation"
   ]
  },
  {
   "cell_type": "markdown",
   "id": "08513926-900d-4719-80da-0c954db6ef78",
   "metadata": {},
   "source": [
    "* At the perceptron (only $\\mathbf{1}$!), each data point $i$ ($i \\in \\{1,\\ldots,m_{\\mathrm{train}}\\}$) will be<br>\n",
    "  subjected to the following $2$ transformations:\n",
    "  1. $\\texttt{affine}$ transformation:<br>\n",
    "       $\\begin{eqnarray}\n",
    "         z_i & = &   \\mathbf{w^T}.\\mathbf{x_i} +b \\;\\;,\\;\\; \\mathbf{x_i} \\in \\mathbb{R}^{n\\times 1} \\nonumber \\\\\n",
    "            &=  &  \\displaystyle{\\sum_{j=1}^n w_j x_{ji} +b} \\nonumber\n",
    "       \\end{eqnarray}$\n",
    "    \n",
    "     where:<br>\n",
    "     - $ \\mathbf{w}$ : <font color=\"green\"><b>weight</b></font> vector ($\\in \\mathbb{R}^{n \\times 1}$)<br>\n",
    "       Note: the weight vector has <font color=\"orangered\">same number of dimensions as there are features</font> .\n",
    "    \n",
    "     - $ b$ : <font color=\"green\"><b>bias</b></font> (scalar $\\Rightarrow \\in \\mathbb{R}$).\n",
    "\n",
    "     - For each data point: the <font color=\"orangered\"> weight vector and bias used at this one perceptron are the same</font>.   \n",
    "  2. subsequent $\\texttt{non linear activation}$:<br>\n",
    "     $a_i =  \\sigma(z_i)$ , $a_i \\in \\mathbb{R}$<br>\n",
    "     where:<br>\n",
    "     - $\\sigma$ is known as the <font color=\"green\"><b>sigmoid</b></font> function.\n",
    "   \n",
    "     - $\\begin{equation}\n",
    "        \\sigma(z) = \\displaystyle \\frac{1}{1+e^{-z}} \n",
    "       \\end{equation}$\n",
    "    \n",
    "     - The activation of the <b>last layer</b> (in this case we only have one layer) is the same<br>\n",
    "       as the predicted value ($\\widehat{y_i})$. Thus, <br>\n",
    "    \n",
    "       $\\begin{equation}\n",
    "       \\widehat{y_i} := a_i \\nonumber\n",
    "       \\end{equation}$\n",
    "   \n",
    "* Calculate the <font color=\"green\"><b>cost function</b></font> ($\\mathcal{C}$).<br>\n",
    "  The cost function $\\mathcal{C}$ is defined as the mean of the <font color=\"green\"><b>loss functions</b></font> ($\\mathcal{L}^{(i)}$) over the $m_{\\mathrm{train}}$ data points:\n",
    "\n",
    "  $\\begin{eqnarray}\n",
    "       \\mathcal{C}       & := & \\displaystyle \\frac{1}{m_{\\mathrm{train}}} \\sum_{i=1}^{m_{\\mathrm{train}}}        \\mathcal{L}^{(i)} \n",
    "  \\end{eqnarray}$\n",
    "  \n",
    "\n",
    "  In case of **binary classification**, the **loss function** $\\mathcal{L}^{(i)}$ for data point $i$ is given by:\n",
    "  \n",
    "  $\\begin{eqnarray}\n",
    "       \\mathcal{L}^{(i)} & = & - \\bigg [ y_i \\log(\\widehat{y_i}) + (1-y_i)\\log(1-\\widehat{y_i}) \\bigg ] \\\\\n",
    "                         & = & - \\bigg [ y_i \\log(a_i) + (1-y_i)\\log(1-a_i) \\bigg ] \\\\\n",
    "  \\end{eqnarray}$\n",
    "\n",
    "* <font color=\"red\"><b>Computational Note:</b></font><br>\n",
    "  The vectorization feature in NumPy should be exploited.<br>\n",
    "  Instead of performing the $\\texttt{affine transformation}$ and $\\texttt{activation}$ on **one** element<br>\n",
    "  at the time, perform the operation on an $\\texttt{ndarray}$ of elements.\n",
    "\n",
    "  Provided that:\n",
    "  + $\\mathbf{x_i}$ is a column vector of length of $n$, i.e. $\\mathbf{x_i} \\in \\mathbb{R}^{n \\times 1}$.\n",
    "  + $y_i$ is either 0 ($\\texttt{False}$) or 1 ($\\texttt{True}$), i.e. $y_i \\in \\mathbb{R}$.\n",
    "  + The $\\mathrm{m}$ $\\mathbf{x_i}$ column vectors can be collected in the $n \\times m$ matrix $X$,<br>\n",
    "    given by:\n",
    "\n",
    "    $\\begin{eqnarray}\n",
    "         X & := & \\begin{pmatrix}\n",
    "                                \\vdots & \\cdots  &\\vdots \\\\\n",
    "                                 \\mathbf{x_1}   & \\vdots  & \\mathbf{x_{m}}  \\\\\n",
    "                                 \\vdots & \\cdots & \\vdots \n",
    "                 \\end{pmatrix}\n",
    "     \\end{eqnarray}$\n",
    "\n",
    "      \n",
    "  + The $\\mathrm{m}$ $y_i$ values can be collected in the row vector $Y$,<br>\n",
    "    given by:\n",
    "\n",
    "    $\\begin{eqnarray}\n",
    "       Y & := & \\begin{pmatrix} y_1 & y_2 & \\cdots & y_{\\mathrm{m}-1} & y_{\\mathrm{m}} \n",
    "                 \\end{pmatrix}\n",
    "      \\end{eqnarray}$\n",
    "\n",
    "  + Thus:\n",
    "    - $\\begin{eqnarray}\n",
    "         \\mathbf{Z} & = &   \\mathbf{w^T}.\\mathbf{X} + \\mathbf{b}  \\nonumber \n",
    "       \\end{eqnarray}$\n",
    "\n",
    "    - $\\begin{eqnarray}\n",
    "          \\mathbf{A} & = & \\sigma(\\mathbf{Z}) \\nonumber\n",
    "      \\end{eqnarray}$\n",
    " "
   ]
  },
  {
   "cell_type": "markdown",
   "id": "0b172780-7a9d-453c-afb5-d2ad93d5fecc",
   "metadata": {},
   "source": [
    "#### Some notes on the sigmoid function"
   ]
  },
  {
   "cell_type": "markdown",
   "id": "a2d2f438-4d4b-4c76-99d6-4c21cd0c6575",
   "metadata": {},
   "source": [
    "The sigmoid function $\\sigma(z)$ has the following properties:\n",
    "\n",
    "* $\n",
    "   \\begin{equation}\n",
    "  \\lim_{ z \\to -\\infty} \\sigma(z) = 0\n",
    "  \\end{equation}$\n",
    "\n",
    "* $\\begin{equation}\n",
    "   \\lim_{ z \\to +\\infty} \\sigma(z) = 1\n",
    "  \\end{equation}$\n",
    "\n",
    "* $\\begin{equation}\n",
    "   \\sigma(0) = \\frac{1}{2}\n",
    "  \\end{equation}$\n",
    "\n",
    "* $\\begin{equation}\n",
    "  \\displaystyle \\frac{d \\sigma(z)}{dz} = \\sigma(z)(1-\\sigma(z))\n",
    "  \\end{equation}$\n",
    "\n",
    "The range of the sigmoid is $[0,1]$ and thus be interpreted as a <font color=\"green\"><b>probability</b></font>.\n",
    "  "
   ]
  },
  {
   "cell_type": "code",
   "execution_count": 23,
   "id": "edb4aa30-ee02-4bda-9616-e22d1a0016b2",
   "metadata": {},
   "outputs": [
    {
     "data": {
      "image/png": "[encoded data removed]",
      "text/plain": [
       "<Figure size 640x480 with 1 Axes>"
      ]
     },
     "metadata": {},
     "output_type": "display_data"
    }
   ],
   "source": [
    "x = np.linspace(-7.5, 7.5, 1501)\n",
    "y = 1.0/(1.0+np.exp(-x))\n",
    "plt.title(r\"Sigmoid function\")\n",
    "plt.xlabel(r\"$x$\")\n",
    "plt.ylabel(r\"$\\sigma(x)$\",rotation=0)\n",
    "plt.plot(x,y)\n",
    "plt.grid()\n",
    "plt.show()"
   ]
  },
  {
   "cell_type": "markdown",
   "id": "c0b4589c-cc1a-495a-9b87-fe4474317c0b",
   "metadata": {},
   "source": [
    "#### Exercise 1: Tools for the forward propagation"
   ]
  },
  {
   "cell_type": "markdown",
   "id": "20b55643-d66f-4291-a423-2bf587c81955",
   "metadata": {},
   "source": [
    "<font color=\"blue\"><b>Implement the following **3** functions:</b></color>\n"
   ]
  },
  {
   "cell_type": "markdown",
   "id": "3b4fde55-d6b7-437e-bd9f-562754c323eb",
   "metadata": {},
   "source": [
    "##### Exercise 1.1:\n",
    "`def init_param(n: int) -> Tuple[np.ndarray, float]:`<br>\n",
    "  * The weight vector is a column vector having the <font color=\"red\"><b>(n,1)</b></font> shape and of type float.\n",
    "  * The bias is a scalar of type float.\n",
    "  * All elements of the weight vector and bias can be initialized to $0.0$."
   ]
  },
  {
   "cell_type": "code",
   "execution_count": 3,
   "id": "3019ca60-378d-4139-984e-68dd9a7ba0f9",
   "metadata": {},
   "outputs": [],
   "source": [
    "# Exercise 1.1:\n",
    "def init_param(n: int) -> Tuple[np.ndarray, float]:\n",
    "    \"\"\"\n",
    "    Initialize the parameters (weight, bias) for the Binary Classifier.\n",
    "    \n",
    "    Args:\n",
    "        n (int): The number of features.\n",
    "    \n",
    "    Returns:\n",
    "        Tuple[np.ndarray, float]: A tuple containing the initialized weight (column vector)\n",
    "                                 & the initialized bias (scalar).\n",
    "    \"\"\"\n",
    "    # Here comes YOUR code to initialize the weight vector & bias.\n",
    "    # W =  <--- Weight (vector) to zero\n",
    "    # b =  <--- bias (float) to zero\n",
    "    return W,b"
   ]
  },
  {
   "cell_type": "code",
   "execution_count": 4,
   "id": "d186e1b2-eb5a-44be-b59c-359d4c37230d",
   "metadata": {},
   "outputs": [],
   "source": [
    "# Here comes the test code to check init_param"
   ]
  },
  {
   "cell_type": "markdown",
   "id": "a7550844-d026-4f26-9ead-63dc01ac9904",
   "metadata": {},
   "source": [
    "##### Exercise 1.2\n",
    "`def sigmoid(Z: np.ndarray) -> np.ndarray:`<br>\n",
    "  * Perform $\\sigma(\\mathbf{Z})$"
   ]
  },
  {
   "cell_type": "code",
   "execution_count": 17,
   "id": "aaa9cb4b-158c-424d-9bdc-522a784a3da0",
   "metadata": {},
   "outputs": [],
   "source": [
    "# Exercise 1.2:\n",
    "def sigmoid(Z: np.ndarray) -> np.ndarray:\n",
    "    \"\"\"\n",
    "    Compute the sigmoid function.\n",
    "    \n",
    "    Args:\n",
    "        Z (np.ndarray): The input value(s).\n",
    "    \n",
    "    Returns:\n",
    "        np.ndarray: The sigmoid of the input value(s).\n",
    "    \"\"\"\n",
    "    # Here comes YOUR code for the sigmoid function.\n",
    "    # return <---  "
   ]
  },
  {
   "cell_type": "code",
   "execution_count": 26,
   "id": "15a98667-d8f9-4d54-a66a-d08049818a19",
   "metadata": {},
   "outputs": [],
   "source": [
    "# Here comes test code for the sigmoid function"
   ]
  },
  {
   "cell_type": "markdown",
   "id": "9496359b-64b0-49ab-8dd3-57b44bdbbf39",
   "metadata": {},
   "source": [
    "##### Exercise 1.3\n",
    "`def forward(X: np.ndarray,Y:np.ndarray,`<br>\n",
    "    &nbsp;&nbsp;&nbsp;&nbsp;&nbsp;&nbsp;`W: np.ndarray, b: float) ->`<br> \n",
    "    &nbsp;&nbsp;&nbsp;&nbsp;&nbsp;&nbsp;`Tuple[np.ndarray, float]:`<br>\n",
    " *  $ \\mathbf{Z} = \\mathbf{w^T}.\\mathbf{X} + \\mathbf{b} $\n",
    " *  $ \\mathbf{A} = \\sigma(\\mathbf{Z})$  ($\\texttt{Ex 1.2.}$)\n",
    " *  $ \\mathcal{C} = - \\frac{1}{m} \\displaystyle \\sum_{i=1}^m \\bigg [ y_i \\log(a_i) + (1-y_i)\\log(1-a_i) \\bigg ]$ <br>\n",
    "    The latter equation can be easily vectorized in NumPy using $\\mathbf{A}$ and $\\mathbf{Y}$."
   ]
  },
  {
   "cell_type": "code",
   "execution_count": 7,
   "id": "8ce49e55-b6fd-4530-804c-181700de11af",
   "metadata": {},
   "outputs": [],
   "source": [
    "# Exercise 1.3:\n",
    "def forward(X: np.ndarray, Y: np.ndarray,\n",
    "            W: np.ndarray, b: float) -> Tuple[np.ndarray, float]:\n",
    "    \"\"\"\n",
    "    Perform the forward pass of the binary classifier.\n",
    "    \n",
    "    Args:\n",
    "        X (np.ndarray): The training data (features)  -> shape(n, m) \n",
    "                        where n is #features & m is #samples.\n",
    "        Y (np.ndarray): The training labels (targets) -> shape(1, m)\n",
    "                        where m is #samples.\n",
    "        W (np.ndarray): The weight vector             -> shape(n,1 ).\n",
    "        b (float)     : The bias term                 -> float\n",
    "    \n",
    "    Returns:\n",
    "        Tuple[np.ndarray, float]: \n",
    "          A tuple containing the activation matrix and the cost.\n",
    "    \"\"\"\n",
    "    # Here comes YOUR code for the forward propagation.\n",
    "    num_samples = X.shape[1]\n",
    "    # Z =   <-- Your code\n",
    "    # A =   <-- Your code\n",
    "    # cost =  <-- Your code\n",
    "    return A, cost"
   ]
  },
  {
   "cell_type": "code",
   "execution_count": 27,
   "id": "59c698ff-1a51-4451-aa4d-f4e5353deb23",
   "metadata": {},
   "outputs": [],
   "source": [
    "# Here comes test code for Exercise 1.3"
   ]
  },
  {
   "cell_type": "markdown",
   "id": "91bf5d42-f8d2-42b9-a6b2-56702ec20e9f",
   "metadata": {},
   "source": [
    "### 3.2.2. Back Propagation"
   ]
  },
  {
   "cell_type": "markdown",
   "id": "697fd5b7-8d51-402b-8340-9f6688f6053a",
   "metadata": {},
   "source": [
    "Our ultimate goal (during the training phase of our model) is to find the <font color=\"green\"><b>optimal values</b></font><br> for the weight vector ($\\widehat{w}$), and the bias ($\\widehat{b}$).<br>\n",
    "  Thus:<br>\n",
    "\n",
    "  $\\begin{equation}\n",
    "     \\widehat{w}, \\widehat{b} = \\underset{w,b}{\\operatorname{argmin}} \\mathcal{C}\n",
    "  \\end{equation}$\n",
    "\n",
    "This goal can be reached iteratively:\n",
    "1. by calculating the <font color=\"green\"><b>direction/gradient</b></font> w.r.t weights and bias which leads to a minimum of the cost function $\\mathcal{C}$).\n",
    "2. by subsequently <font color=\"green\"><b>updating</b></font> the values of the weight vector and the bias along the aforementioned direction.\n",
    "\n",
    "1.Calculate the **gradient of cost function** w.r.t the weights and the bias:\n",
    "  \n",
    "  + $\\begin{eqnarray}\n",
    "      \\frac{\\partial \\mathcal{L}^{(i)}}{\\partial a_i} & = & \\frac{\\partial}{\\partial a_i} \\bigg [ - \\big [ y_i \\log(a_i) + (1-y_i)\\log(1-a_i) \\big ] \\bigg ]\\\\\n",
    "                                                      & = & -\\frac{y_i}{a_i} + \\frac{(1-y_i)}{(1-a_i)}\n",
    "    \\end{eqnarray}$\n",
    " \n",
    "    \n",
    "  + $\\begin{eqnarray}\n",
    "        \\frac{\\partial \\mathcal{L}^{(i)}}{\\partial z_i} & = & \\frac{\\partial \\mathcal{L}^{(i)}}{\\partial a_i} \\frac{\\partial a_i}{\\partial z_i} \\\\\n",
    "         & = & \\frac{\\partial \\mathcal{L}^{(i)}}{\\partial a_i} \\frac{\\partial \\sigma(z_i)}{\\partial z_i} \\\\\n",
    "         & =& a_i - y_i\n",
    "    \\end{eqnarray}$\n",
    " \n",
    "    \n",
    "  + $\\begin{eqnarray}\n",
    "       \\frac{\\partial \\mathcal{L}^{(i)}}{\\partial b} & = & \\frac{\\partial \\mathcal{L}^{(i)}}{\\partial a_i} \\frac{\\partial a_i}{\\partial z_i}\\frac{\\partial z_i}{\\partial b} \\\\\n",
    "                 & = & a_i - y_i\n",
    "    \\end{eqnarray}$\n",
    "  + $\\begin{eqnarray}\n",
    "      \\frac{\\partial \\mathcal{L}^{(i)}}{\\partial w_j} & = & \\frac{\\partial \\mathcal{L}^{(i)}}{\\partial a_i} \\frac{\\partial a_i}{\\partial z_i}\\frac{\\partial z_i}{\\partial w_j} \\\\\n",
    "                 & = & (a_i - y_i) x_{ji}\n",
    "    \\end{eqnarray}$\n",
    "    \n",
    "  Thus, <br>\n",
    "\n",
    "  + $\\begin{eqnarray}\n",
    "     \\frac{\\partial\\mathcal{C}}{\\partial b}  & =   &= & \\frac{1}{m_{\\mathrm{train}}}\\displaystyle \\sum_{i=1}^{m_{\\mathrm{train}}} \\frac{\\partial \\mathcal{L}^{(i)}}{\\partial b}  \n",
    "                                             & = & \\frac{1}{m_{\\mathrm{train}}} \\displaystyle \\sum_{i=1}^{m_{\\mathrm{train}}} (a_i - y_i) \n",
    "     \\end{eqnarray}$\n",
    "\n",
    "  + $\\begin{eqnarray}\n",
    "     \\frac{\\partial\\mathcal{C}}{\\partial w_j}  &= & \\frac{1}{m_{\\mathrm{train}}}\\displaystyle \\sum_{i=1}^{m_{\\mathrm{train}}} \\frac{\\partial \\mathcal{L}^{(i)}}{\\partial b} \n",
    "      & = & \\frac{1}{m_{\\mathrm{train}}} \\displaystyle \\sum_{i=1}^{m_{\\mathrm{train}}} (a_i - y_i) x_{ji} \\;\\;,\\;\\;\\forall \\, j \\in \\{1,\\ldots,n\\}\n",
    "     \\end{eqnarray}$\n",
    "\n",
    "2.**Update** the parameters (using <a href=\"https://en.wikipedia.org/wiki/Gradient_descent\">gradient descent</a>): \n",
    "\n",
    "  $\\begin{eqnarray}\n",
    "      b & = & b - \\alpha  \\frac{\\partial\\mathcal{C}}{\\partial b} \\\\\n",
    "      w_j & = & w_j - \\alpha  \\frac{\\partial\\mathcal{C}}{\\partial w_j} \\;\\;,\\;\\;\\forall \\, j \\in \\{1,\\ldots,n\\}\n",
    "    \\end{eqnarray}$\n",
    "\n",
    "  where $\\alpha$ is known as the <font color=\"green\"><b>learning rate </b></font> or the <font color=\"green\"><b>step size</b></font> (gradient descent).  \n",
    "\n",
    "<font color=\"red\"><b>Computational Note:</b></font><br>\n",
    "  The vectorization feature in NumPy should be exploited.  "
   ]
  },
  {
   "cell_type": "markdown",
   "id": "b21756a2-c036-4368-8243-13ecbe9652f6",
   "metadata": {},
   "source": [
    "#### Exercise 2: Tools for the Back propagation"
   ]
  },
  {
   "cell_type": "markdown",
   "id": "f151e433-1997-4608-898c-efa13f9f36b6",
   "metadata": {},
   "source": [
    "<font color=\"blue\"><b>Implement the following functions:</b></font>"
   ]
  },
  {
   "cell_type": "markdown",
   "id": "b1d3f635-e9b4-4c62-925a-e9b44e5065b0",
   "metadata": {},
   "source": [
    "##### Exercise 2.1\n",
    "`def calcgrad(X_train:np.ndarray, Y_train:np.ndarray, A:np.ndarray) ->\\`<br>\n",
    "  &nbsp;&nbsp;&nbsp;&nbsp;&nbsp;&nbsp;`Tuple[np.ndarray, float]:`\n",
    "\n",
    "These are the steps:  \n",
    "* $\\mathbf{dZ} = \\mathbf{A} - \\mathbf{Y}$\n",
    "* $\\mathbf{dW} = \\frac{1}{m} \\mathbf{X}.\\mathbf{dZ}^T$\n",
    "* $db = \\frac{1}{m} \\displaystyle \\sum_{i=1}^m \\mathbf{dZ}_i$\n",
    "* return $\\mathbf{dW},db$"
   ]
  },
  {
   "cell_type": "code",
   "execution_count": 10,
   "id": "74a8ea4b-46d7-4055-9f26-2c524262c774",
   "metadata": {},
   "outputs": [],
   "source": [
    "# Exercise 2.1.:\n",
    "def calcgrad(X: np.ndarray, Y: np.ndarray, \n",
    "             A:np.ndarray) ->  Tuple[np.ndarray, float]:\n",
    "    \"\"\"        \n",
    "    Computes the gradients of the cost function with respect to W and b.\n",
    "    Arg:\n",
    "        X (np.ndarray): Training data -> shape(n,m)\n",
    "        Y (np.ndarray): Training labels -> shape(1,m)\n",
    "        A (np.ndarray): Activation matrix -> shape(1,m) \n",
    "    Return:\n",
    "        A tuple containing the gradients with respect to W and b.\n",
    "    \"\"\" \n",
    "    # Here comes the calcgrad code\n",
    "    num_samples = X.shape[1]\n",
    "    # dZ = <---\n",
    "    # dW = <---\n",
    "    # db = <---\n",
    "    return dW,db"
   ]
  },
  {
   "cell_type": "code",
   "execution_count": 28,
   "id": "4148b6c0-3060-43de-94a8-c89cff86e128",
   "metadata": {},
   "outputs": [],
   "source": [
    "# Here comes test code for Ex. 2.1"
   ]
  },
  {
   "cell_type": "markdown",
   "id": "2af79d3c-3038-4906-a240-9cb59eb9f8e2",
   "metadata": {},
   "source": [
    "`def update(Weights: np.ndarray, bias: float,\\`<br>\n",
    "   &nbsp;&nbsp;&nbsp;&nbsp;&nbsp;&nbsp;`dWeight: np.ndarray, dbias:float, lr:float) -> Tuple[np.ndarray, float]:`<br>\n",
    "Here are the steps:\n",
    "* $\\mathbf{W} = \\mathbf{W} - \\alpha \\,\\mathbf{dW}$\n",
    "* $b = b - \\alpha \\,db$\n",
    "* return $\\mathbf{W},b$"
   ]
  },
  {
   "cell_type": "code",
   "execution_count": 20,
   "id": "3b9f5310-6b88-42dc-ac32-ddbe97b897e8",
   "metadata": {},
   "outputs": [],
   "source": [
    "# Exercise 2.2.:\n",
    "def update(Weights: np.ndarray, bias: float,\n",
    "           dWeight: np.ndarray, dbias:float,\n",
    "           lr:float) -> Tuple[np.ndarray, float]:\n",
    "    \"\"\"\n",
    "    Update the parameters using the gradients and learning rate.    \n",
    "\n",
    "    Args:\n",
    "        Weights (np.ndarray): The weight vector             -> shape(n, 1).\n",
    "        bias (float)        : The bias term                 -> float\n",
    "        dWeight (np.ndarray): The gradient of the cost w.r.t. W -> shape(n, 1).\n",
    "        dbias (float)       : The gradient of the cost w.r.t. b -> float\n",
    "        lr (float)          : The learning rate.    \n",
    "\n",
    "    Returns:\n",
    "        Tuple[np.ndarray, float]: \n",
    "          A tuple containing the updated weight and bias.\n",
    "    \"\"\"\n",
    "    # Here comes the code to update the weight vector and the bias.\n",
    "    # W = <---\n",
    "    # b = <---\n",
    "    return W,b"
   ]
  },
  {
   "cell_type": "code",
   "execution_count": 29,
   "id": "136fc4dc-5e84-4a2a-8eca-d98094613535",
   "metadata": {},
   "outputs": [],
   "source": [
    "# Here comes test code for Ex. 2.2"
   ]
  },
  {
   "cell_type": "markdown",
   "id": "554e4590-f75b-4bb9-bace-8a459f639f88",
   "metadata": {},
   "source": [
    "#### Exercise 3: Training (complete)"
   ]
  },
  {
   "cell_type": "markdown",
   "id": "952d38ec-55ef-40e7-9ace-57df9fe6efa2",
   "metadata": {},
   "source": [
    "<font color=\"blue\"><b>Implement the following function:</b></font>"
   ]
  },
  {
   "cell_type": "markdown",
   "id": "3f58e61f-2afb-4eaf-8dbb-5d91c2f7520b",
   "metadata": {},
   "source": [
    "`def train_model(X: nd.array, Y: nd.array, \\`<br>\n",
    "     &nbsp;&nbsp;&nbsp;&nbsp;&nbsp;&nbsp;`num_epochs: int, lr: float) -> Tuple[List[float],np.ndarray, float]:`\n",
    "Here are steps:\n",
    "* initialize $\\mathbf{W},b$ to 0.0  \n",
    "* perform a loop/iteration:\n",
    "  - Calculate $\\mathbf{A}, \\mathcal{C}$ (cost) using the forward function\n",
    "  - Calculate the gradients $\\mathbf{dW}, db$\n",
    "  - Update $\\mathbf{W}, b$ using the gradients $\\mathbf{dW}, db$\n",
    "* return lst(cost), $\\mathbf{W},b$. "
   ]
  },
  {
   "cell_type": "code",
   "execution_count": 22,
   "id": "6dc6c97f-41d4-4cbc-87d7-1f0f710d3475",
   "metadata": {},
   "outputs": [],
   "source": [
    "# Exercise 3.1.\n",
    "def train_model(X: np.ndarray, Y: np.ndarray,\n",
    "                num_epochs: int, lr: float) -> Tuple[List[float],np.ndarray, float]:\n",
    "    \"\"\"\n",
    "    Train the binary classifier using gradient descent.\n",
    "    \n",
    "    Args:\n",
    "        X (np.ndarray): The training data (features)  -> shape(n, m) \n",
    "                        where n is #features & m is #samples.\n",
    "        Y (np.ndarray): The training labels (targets) -> shape(1, m)\n",
    "                        where m is #samples.\n",
    "        num_epochs (int): The number of epochs to train.\n",
    "        lr (float)    : The learning rate.    \n",
    "    \n",
    "    Returns:\n",
    "        Tuple[np.ndarray, float]: \n",
    "          A tuple containing the final weight and bias after training.\n",
    "    \"\"\"\n",
    "    # Here comes YOUR code to train the model.\n",
    "    lstCost = []\n",
    "    # W,b =         <--- Initialize to 0.0 using previous function\n",
    "    for i in range(num_epochs):\n",
    "        # A, cost = <--- Use the forward function\n",
    "        lstCost.append(cost)\n",
    "        # dW, db =  <--- Calc. the gradient\n",
    "        # W, b = <-- Perform the update\n",
    "    return lstCost, W, b    "
   ]
  },
  {
   "cell_type": "code",
   "execution_count": 30,
   "id": "2737be94-aff0-4944-a03a-6b14d7e1183b",
   "metadata": {},
   "outputs": [],
   "source": [
    "# Here comes test code for exercise 3.1"
   ]
  },
  {
   "cell_type": "markdown",
   "id": "5fdea240-cb4b-46ce-aa40-65cdcb5799f7",
   "metadata": {},
   "source": [
    "## 4. Testing of the binary classifier "
   ]
  },
  {
   "cell_type": "markdown",
   "id": "9450608b-7af0-4d8e-89da-54b3170b8bc8",
   "metadata": {},
   "source": [
    "Once our neural net has been trained, i.e. the <font color=\"green\"><b>optimal values</b></font><br> \n",
    "for the parameters $\\mathbf{w}$ and $b$ (i.e. $\\mathbf{\\widehat{w}}$ and $\\widehat{b}$) are known. <br> \n",
    "We can now test our neural net model using the <font color=\"green\"><b>test data set</b></font>.\n",
    "\n",
    "* Apply the <font color=\"green\"><b> predict </b></font> function the **test data set**.<br>\n",
    "  The **predict** function has $2$ components:\n",
    "  + Apply the **forward** propagation to the test data set but use $\\mathbf{\\widehat{w}}$ and $\\widehat{b}$.\n",
    "  + Map the obtained activation to either $0$ or $1$\n",
    "* Calculate the number of correct predictions vs. total predictions. "
   ]
  },
  {
   "cell_type": "markdown",
   "id": "96817d32-0e68-4dde-86c4-86b89ea41401",
   "metadata": {},
   "source": [
    "### 4.1.Prediction function"
   ]
  },
  {
   "cell_type": "markdown",
   "id": "6eea731e-a660-46a0-b498-4d6fcc99b53a",
   "metadata": {},
   "source": [
    "* The <font color=\"green\"><b>test set</b></font> consists of $m_{\\mathrm{test}}$ test data points</b>:<br> $(\\mathbf{x}_i,y_i)$, $i \\in \\{1,\\ldots,m_{\\mathrm{test}}\\}$<br>\n",
    "  where:\n",
    "  - $\\mathbf{x_i}$ is a column vector of length of $n$, i.e. $\\mathbf{x_i} \\in \\mathbb{R}^{n \\times 1}$.\n",
    "  - $y_i$ is either 0 ($\\texttt{False}$) or 1 ($\\texttt{True}$), i.e. $y_i \\in \\mathbb{R}$.\n",
    "  - The $m_{\\mathrm{test}}$ $\\mathbf{x_i}$ column vectors can be collected in the matrix $X$,<br>\n",
    "    given by:\n",
    "\n",
    "    $\\begin{eqnarray}\n",
    "         X & := & \\begin{pmatrix}\n",
    "                                \\vdots & \\cdots  &\\vdots \\\\\n",
    "                                 \\mathbf{x_1}   & \\vdots  & \\mathbf{x_{\\mathrm{m_{test}}}}  \\\\\n",
    "                                 \\vdots & \\cdots & \\vdots \n",
    "                 \\end{pmatrix}\n",
    "     \\end{eqnarray}$\n",
    "  - The $m_{\\mathrm{test}}$ $y_i$ values can be collected in the $2D$ row vector $Y$,<br>\n",
    "    given by:\n",
    "\n",
    "    $\\begin{eqnarray}\n",
    "         Y & := & \\begin{pmatrix} y_1 & y_2 & \\cdots & y_{\\mathrm{m_{test}-1}} & y_{\\mathrm{m_{test}}} \n",
    "                 \\end{pmatrix}\n",
    "     \\end{eqnarray}$  \n",
    "    \n",
    "* Apply <font color=\"green\"><b>forward propagation</b></font> in (matrix) form (efficiency reasons):\n",
    "  - $\\begin{eqnarray}\n",
    "        \\mathbf{z^T} & = & \\mathbf{\\widehat{w}^T}. \\mathbf{X} + \\mathbf{\\widehat{b}^T} \n",
    "     \\end{eqnarray}$\n",
    "     where:\n",
    "     + $\\mathbf{z^T}$ is a row vector of length $m_{\\mathrm{test}}$\n",
    "     + $\\mathbf{\\widehat{w}^T}$ is a row vector (containing $n$ el.) with the optimal weights (obtained from the training)\n",
    "     + $\\mathbf{X}$ is $n \\times m_{\\mathrm{test}}$ matrix.\n",
    "     + $\\mathbf{\\widehat{b}^T}$ is a row vector of length $m_{\\mathrm{test}}$ (each element is $\\widehat{b}$).\n",
    "  - $\\begin{eqnarray}\n",
    "        \\mathbf{a} & = & \\sigma(\\mathbf{{z}}) \n",
    "     \\end{eqnarray}$\n",
    "    where $\\sigma$ operates element-wise on the row-vector $\\mathbf{z}$<br>\n",
    "    to generate the row vector $\\mathbf{a}$.\n",
    "* The elements that are calculated ($\\widehat{\\mathbf{y}}:=\\mathbf{a}$) are in the interval $[0,1]$.<br>\n",
    "  - In order to compare them with the <font color=\"green\"><b>test labels</b></font>, we must <font color=\"green\"><b>map</b></font> the elements of $\\mathbf{a}$ into $\\{0,1\\}$.\n",
    "  - $\\widetilde{y_i} = F(\\widehat{\\mathbf{y_i}})$ where\n",
    "    $F(\\widehat{\\mathbf{y_i}})$ is defined in the following way:<br>\n",
    "     $\\begin{equation}\n",
    "      \\widetilde{y_i}= \n",
    "\\begin{cases}\n",
    "    1,& \\text{if } a_i \\geq 0.5\\\\\n",
    "    0,              & \\text{otherwise}\n",
    "\\end{cases}\n",
    "     \\end{equation}$"
   ]
  },
  {
   "cell_type": "markdown",
   "id": "70332fd8-cade-4760-aa41-d94ff2469a4e",
   "metadata": {},
   "source": [
    "#### Exercise 4: prediction function + accuracy"
   ]
  },
  {
   "cell_type": "markdown",
   "id": "86dcefeb-2a74-4f91-8e1f-3bdddfbe9b14",
   "metadata": {},
   "source": [
    "<font color=\"blue\"><b>Implement the following functions:</b></font>"
   ]
  },
  {
   "cell_type": "markdown",
   "id": "604a83b3-a03c-44c3-8f40-852fc2f0d51e",
   "metadata": {},
   "source": [
    "##### Exercise 4.1:\n",
    "`def predict_labels(X: np.ndarray, Weights: np.ndarray,`<br>\n",
    "  &nbsp;&nbsp;&nbsp;&nbsp;&nbsp;&nbsp;`bias:float) -> np.ndarray:`\n",
    "Steps:\n",
    "* Calculate $\\mathbf{A}$ using $\\mathbf{W}$ and $b$ (obtained from training)\n",
    "* Map all the elements of A to either $1$ or $0$."
   ]
  },
  {
   "cell_type": "code",
   "execution_count": 6,
   "id": "140dc38f-cb02-414d-bdb5-d43cd94b2136",
   "metadata": {},
   "outputs": [],
   "source": [
    "# Exercise 4.1:\n",
    "def predict_labels(X: np.ndarray, W: np.ndarray, b: float) -> np.ndarray:\n",
    "    \"\"\"\n",
    "    Make predictions using the trained model.\n",
    "    \n",
    "    Args:\n",
    "        X (np.ndarray): The input data (features)  -> shape(n, m) \n",
    "                        where n is #features & m is #samples.\n",
    "        W (np.ndarray): The weight vector             -> shape(n, 1).\n",
    "        b (float)     : The bias term                 -> float\n",
    "    \n",
    "    Returns:\n",
    "        np.ndarray: The predicted labels (0 or 1).\n",
    "    \"\"\"\n",
    "    # Here comes the code to predict the labels (either 0 or 1\n",
    "    # A = <----- \n",
    "    return np.where(A >= 0.5, 1, 0)"
   ]
  },
  {
   "cell_type": "code",
   "execution_count": 31,
   "id": "45ab1011-3751-469b-985c-94a2fb83b4f7",
   "metadata": {},
   "outputs": [],
   "source": [
    "# Here comes test code for Ex. 4.1."
   ]
  },
  {
   "cell_type": "markdown",
   "id": "5366eb4e-98bb-4545-9fba-220faa8ef82e",
   "metadata": {},
   "source": [
    "##### Exercise 4.2:\n",
    "`def accuracy(Y_true: np.ndarray,`<br>\n",
    "  &nbsp;&nbsp;&nbsp;&nbsp;&nbsp;&nbsp;`Y_pred: np.ndarray) -> float<br>\n",
    "Step:\n",
    "* return ratio (number matches/total number) * 100. "
   ]
  },
  {
   "cell_type": "code",
   "execution_count": 25,
   "id": "a227c11c-be2f-493f-9fd2-bf17d105bc9f",
   "metadata": {},
   "outputs": [],
   "source": [
    "# Exercise 4.2:\n",
    "def accuracy(Y_true: np.ndarray, Y_pred: np.ndarray) -> float:\n",
    "    \"\"\"\n",
    "    Calculate the accuracy of the predictions.\n",
    "    \n",
    "    Args:\n",
    "        Y_true (np.ndarray): The true labels.\n",
    "        Y_pred (np.ndarray): The predicted labels.\n",
    "    \n",
    "    Returns:\n",
    "        float: The accuracy as a percentage.\n",
    "    \"\"\"\n",
    "    # return <--- Here comes the ratio * 100"
   ]
  },
  {
   "cell_type": "code",
   "execution_count": 32,
   "id": "b72583b9-bf7d-4fe1-bc4c-f43727abe74c",
   "metadata": {},
   "outputs": [],
   "source": [
    "# Here comes test code for Ex. 4.2."
   ]
  },
  {
   "cell_type": "markdown",
   "id": "c2549172-cdb5-4ea7-b3d1-fc2d71d0a394",
   "metadata": {},
   "source": [
    "## 5. Putting it all together"
   ]
  },
  {
   "cell_type": "markdown",
   "id": "2b06f9eb-1298-405b-a8fa-3d780901b2c5",
   "metadata": {},
   "source": [
    "### 5.1.Data Generation\n",
    "* The python library <a href=\"https://scikit-learn.org/stable/\">scikit-learn</a> (based on NumPy & SciPy) is used to generate a synthetic data set.\n",
    "* In order to facilitate the visualization we will only choose 2 features."
   ]
  },
  {
   "cell_type": "code",
   "execution_count": 22,
   "id": "385310a0-281b-4853-9cba-2ff4379d5b93",
   "metadata": {},
   "outputs": [
    {
     "name": "stdout",
     "output_type": "stream",
     "text": [
      "  X.shape:(500, 2)\n",
      "  y.shape:(500,)\n"
     ]
    }
   ],
   "source": [
    "# Code to generate a data set\n",
    "X, y = make_moons(n_samples=500, noise=0.25, random_state=42)\n",
    "print(f\"  X.shape:{X.shape}\")\n",
    "print(f\"  y.shape:{y.shape}\")"
   ]
  },
  {
   "cell_type": "markdown",
   "id": "c9691241-f75f-4180-8d72-da6203f56632",
   "metadata": {},
   "source": [
    "### 5.2.Splitting the data.\n",
    "The data set will be split (using scikit-learn) into:\n",
    "- <font color=\"green\"><b>training set</b></font> \n",
    "- <font color=\"green\"><b>test set</b></font>\n",
    "\n",
    "<font color=\"orangered\"><b>Note:</b></font>\n",
    "* Normally, we will also create a <font color=\"green\"><b>dev/validation</b></font> set.\n",
    "* We only $1$ have one <font color=\"green\"><b>hyperparameter</b></font>, i.e. $\\alpha$ (learning rate)\n",
    "* The cost function ($\\mathcal{C}$) is <font color=\"green\"><b>convex</b></font>.<br>\n",
    "  So, our validation set is in essence the test set."
   ]
  },
  {
   "cell_type": "code",
   "execution_count": 8,
   "id": "97dc3e22-caa8-4e60-9dea-a18a0448c6f4",
   "metadata": {},
   "outputs": [
    {
     "name": "stdout",
     "output_type": "stream",
     "text": [
      "Splitting the data set ...\n",
      "  Test ratio:0.3\n",
      "  Training Data Set:\n",
      "    X_train.shape :: (350, 2)\n",
      "    y_train.shape :: (350,)\n",
      "  Test Data Set:\n",
      "    X_test.shape  :: (150, 2)\n",
      "    y_test.shape  :: (150,)\n"
     ]
    }
   ],
   "source": [
    "# Code to split the data in training and a test set.\n",
    "test_ratio = 0.30\n",
    "X_train, X_test, y_train, y_test = train_test_split(\n",
    "    X, y, test_size=test_ratio, random_state=42)\n",
    "print(f\"Splitting the data set ...\")\n",
    "print(f\"  Test ratio:{test_ratio}\")\n",
    "print(f\"  Training Data Set:\")\n",
    "print(f\"    X_train.shape :: {X_train.shape}\")\n",
    "print(f\"    y_train.shape :: {y_train.shape}\")\n",
    "print(f\"  Test Data Set:\")\n",
    "print(f\"    X_test.shape  :: {X_test.shape}\")\n",
    "print(f\"    y_test.shape  :: {y_test.shape}\")"
   ]
  },
  {
   "cell_type": "markdown",
   "id": "0e4dfcc3-124c-4fb5-a1fc-a3296b383e1a",
   "metadata": {},
   "source": [
    "### 5.3. Visualization of the training data"
   ]
  },
  {
   "cell_type": "code",
   "execution_count": 24,
   "id": "d2059038-8d9f-4c47-b33e-21bc35d24d10",
   "metadata": {},
   "outputs": [
    {
     "data": {
      "image/png": "[encoded data removed]",
      "text/plain": [
       "<Figure size 640x480 with 1 Axes>"
      ]
     },
     "metadata": {},
     "output_type": "display_data"
    }
   ],
   "source": [
    "# Visualization of the training set\n",
    "plt.scatter(X_train[:, 0], X_train[:, 1], c=y_train, cmap='RdBu')  \n",
    "plt.title(\"Synthetic Data (2 Features)\")\n",
    "plt.xlabel(r\"$x_1$\")\n",
    "plt.ylabel(r\"$x_2$\")\n",
    "plt.show()"
   ]
  },
  {
   "cell_type": "markdown",
   "id": "7fde4bf0-078d-4352-9beb-c622fe27fe3e",
   "metadata": {},
   "source": [
    "### 5.4. Train the model"
   ]
  },
  {
   "cell_type": "code",
   "execution_count": null,
   "id": "695ceddc-a760-4d84-ab8c-21a89e6596cb",
   "metadata": {},
   "outputs": [],
   "source": []
  },
  {
   "cell_type": "markdown",
   "id": "bd402d31-58e1-43d8-9028-23143d90e422",
   "metadata": {},
   "source": [
    "#### Comparison with LogisticRegression (from sklearn)"
   ]
  },
  {
   "cell_type": "code",
   "execution_count": 20,
   "id": "a418df2d-3198-4181-8b99-7aa7062fecb3",
   "metadata": {},
   "outputs": [
    {
     "name": "stdout",
     "output_type": "stream",
     "text": [
      "  LogisticRegression (sklearn) without L2 (Training Set) ::\n",
      "    coef:[[ 1.25117879 -4.27472833]]\n",
      "    intercept:[0.40821305]\n",
      "    score:  0.8429\n",
      "  LogisticRegression (sklearn) (Training Set) ::\n",
      "    coef:[[ 1.17659618 -3.52086773]]\n",
      "    intercept:[0.25533315]\n",
      "    score:  0.8486\n"
     ]
    }
   ],
   "source": [
    "# Training the model using different versions of sckit-learn\n",
    "# High-accuracy without L2 (term) \n",
    "model1 = LogisticRegression(penalty=None, max_iter=100000, tol=1.E-10).fit(X_train,y_train)\n",
    "print(f\"  LogisticRegression (sklearn) without L2 (Training Set) ::\")\n",
    "print(f\"    coef:{model1.coef_}\")\n",
    "print(f\"    intercept:{model1.intercept_}\")\n",
    "print(f\"    score:{model1.score(X_train,y_train):8.4f}\")\n",
    "\n",
    "model2 = LogisticRegression(max_iter=100000, tol=1.E-10).fit(X_train,y_train)\n",
    "print(f\"  LogisticRegression (sklearn) (Training Set) ::\")\n",
    "print(f\"    coef:{model2.coef_}\")\n",
    "print(f\"    intercept:{model2.intercept_}\")\n",
    "print(f\"    score:{model2.score(X_train,y_train):8.4f}\")"
   ]
  },
  {
   "cell_type": "markdown",
   "id": "c57d129a-8b5f-4278-b11a-6e2b54c919d3",
   "metadata": {},
   "source": [
    "### 5.5.Test the model"
   ]
  },
  {
   "cell_type": "code",
   "execution_count": 21,
   "id": "c97d04ee-0005-4d6b-86cd-1e9ba93a4d36",
   "metadata": {},
   "outputs": [],
   "source": [
    "# Here comes your code to test the model\n",
    "# i.e. calculate the accuracy"
   ]
  },
  {
   "cell_type": "markdown",
   "id": "a3345a44-6d6a-4846-89b2-eb2ab1a35aab",
   "metadata": {},
   "source": [
    "#### Comparison with LogisticRegression (from sklearn)"
   ]
  },
  {
   "cell_type": "code",
   "execution_count": 19,
   "id": "4a50736a-dd27-433e-8857-b52bd76504f3",
   "metadata": {},
   "outputs": [
    {
     "name": "stdout",
     "output_type": "stream",
     "text": [
      "  LogisticRegression (sklearn) without L2 (Test Data Set) ::\n",
      "    score:  0.8600\n",
      "  LogisticRegression (sklearn) (Test Set) ::\n",
      "    score:  0.8533\n"
     ]
    }
   ],
   "source": [
    "print(f\"  LogisticRegression (sklearn) without L2 (Test Data Set) ::\")\n",
    "print(f\"    score:{model1.score(X_test,y_test):8.4f}\")\n",
    "print(f\"  LogisticRegression (sklearn) (Test Set) ::\")\n",
    "print(f\"    score:{model2.score(X_test,y_test):8.4f}\")"
   ]
  },
  {
   "cell_type": "markdown",
   "id": "c3b11027-7222-47ef-977f-a6f5e62de977",
   "metadata": {},
   "source": [
    "### 5.6.Final Visualization"
   ]
  },
  {
   "cell_type": "code",
   "execution_count": 35,
   "id": "2f0972e9-7adf-4086-9b76-35b984eb6b85",
   "metadata": {},
   "outputs": [],
   "source": [
    "# Here comes the code (including the separating plane)"
   ]
  },
  {
   "cell_type": "markdown",
   "id": "0aaa570f-1be6-4a8a-b9e7-257ed48a0647",
   "metadata": {},
   "source": [
    "## 6. Conclusion"
   ]
  },
  {
   "cell_type": "markdown",
   "id": "06040257-1449-476b-a1ff-5854ef2dfb0d",
   "metadata": {},
   "source": [
    "Congratulations!<br>\n",
    "* You have implemented the simplest neural net from scratch.\n",
    "* You have learned that the training of a neural net is (in general) an iterative process \n",
    "  consisting of:\n",
    "  + forward propagation\n",
    "  + backward propagation\n",
    "* Once the training has been done, you can test your neural net.\n",
    "* You can apply your model on new data (from the same distribution)\n",
    "\n",
    "This algorithm is the basic algorithm for **all** neural networks.\n"
   ]
  },
  {
   "cell_type": "markdown",
   "id": "d5f7bb8d-ed30-4f4a-a576-e5f977fe4888",
   "metadata": {},
   "source": [
    "## 7.Perform the same task using PyTorch/Keras"
   ]
  },
  {
   "cell_type": "code",
   "execution_count": null,
   "id": "872f0b4c-90c6-42bd-8999-39f4c3bdb1b6",
   "metadata": {},
   "outputs": [],
   "source": []
  }
 ],
 "metadata": {
  "kernelspec": {
   "display_name": "Python 3 (ipykernel)",
   "language": "python",
   "name": "python3"
  },
  "language_info": {
   "codemirror_mode": {
    "name": "ipython",
    "version": 3
   },
   "file_extension": ".py",
   "mimetype": "text/x-python",
   "name": "python",
   "nbconvert_exporter": "python",
   "pygments_lexer": "ipython3",
   "version": "3.12.2"
  }
 },
 "nbformat": 4,
 "nbformat_minor": 5
}
