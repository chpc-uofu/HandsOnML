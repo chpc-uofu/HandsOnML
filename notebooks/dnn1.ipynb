{
 "cells": [
  {
   "cell_type": "markdown",
   "id": "65fcdcf1-f153-4557-a658-fea1cb867063",
   "metadata": {},
   "source": [
    "# Hands-On Deep Neural Networks - Part 1"
   ]
  },
  {
   "cell_type": "markdown",
   "id": "3ab4f358-4745-4549-8002-b7c451821040",
   "metadata": {},
   "source": [
    "In what follows we will describe the components of a deep neural network (DNN).<br>\n",
    "The paper *\"Deep Learning: An Introduction for Applied Mathematicians\" (SIAM REVIEW, Vol.61, No. 4, 2019, p.860-891) by Catherine F. Higham and Desmond J. Higham* was our inspiration/guide. \n",
    "\n",
    "\n",
    "We will discuss the following topics:\n",
    "* Motivation\n",
    "* Activation function\n",
    "* Neural network\n",
    "* Cost function\n",
    "* Optimization\n",
    "* Back propagation\n",
    "\n",
    "The **prerequisites** for this section are some knowledge of: \n",
    "* partial derivatives and the chain rule\n",
    "* matrix multiplication\n",
    "* Python and NumPy\n",
    "\n",
    "Each section will have a small exercise.\n",
    "The results of these exercises will be used to construct a deep neural net.\n",
    "We will use this deep neural net code to perform the training of a neural network \n",
    "and do some inference.\n",
    "\n",
    "In Part 2 , we will perform the same training and inference but we will rely on existing\n",
    "software (PyTorch and Jax) \n"
   ]
  },
  {
   "cell_type": "markdown",
   "id": "b3bfac37-4f26-4071-bfb5-5a858d0b55bc",
   "metadata": {},
   "source": [
    "### 1.Activation function"
   ]
  },
  {
   "cell_type": "markdown",
   "id": "86f27c07-7129-442d-a59b-81dfc9492d4c",
   "metadata": {},
   "source": [
    "The **activation function** $f(x)$ is an operator which:\n",
    "- transforms an **input** signal in a $\\textcolor{red}{\\textbf{non-linear}}$ way.\n",
    "- and generates an **output** signal ($\\textcolor{red}{\\textbf{activation}}$).\n",
    "  \n",
    "It was modeled after a biological neuron. Thus, we can speak of an artificial neuron.\n",
    "\n",
    "Several activation functions are used in neural nets, among them we find:\n",
    "* sigmoid function:  $\\displaystyle f(x):= \\frac{1}{1+e^{-x}}$,&nbsp; for $x \\in \\mathbb{R}$\n",
    "* tanh function   :  $\\displaystyle f(x):= \\frac{e^{x}-e^{-x}}{e^{x}+e^{-x}}$,&nbsp; for $x \\in \\mathbb{R}$\n",
    "* ReLU function   :  $\\displaystyle f(x):= \\texttt{max}(0,x)$,&nbsp; for $x \\in \\mathbb{R}$<br>\n",
    "  - ReLU: Rectified Linear Unit\n",
    "  - $\\textcolor{red}{\\textbf{non-differentiable}}$ at $x=0$\n",
    "* GELU function   :  $\\displaystyle f(x):= x \\mathbb{P}(Z<x)$,&nbsp; for $x \\in \\mathbb{R}$ where $Z \\sim N(0,1)$<br>\n",
    "  - GELU: Gaussian Error Linear Unit\n",
    "  - $\\displaystyle f(x):= x \\mathbb{P}(Z<x) = x\\Phi(x) = x \\int_{-\\infty}^x \\frac{e^{-t^2/2}}{\\sqrt{2\\pi}}dt$"
   ]
  },
  {
   "cell_type": "markdown",
   "id": "82ba2820-2d9f-4a28-8ad5-9f038085ba41",
   "metadata": {},
   "source": [
    "#### 1.1. Example: sigmoid function"
   ]
  },
  {
   "cell_type": "code",
   "execution_count": 8,
   "id": "51c777e3-5f57-47c8-92e1-646462e7a535",
   "metadata": {},
   "outputs": [
    {
     "data": {
      "image/png": "[encoded data removed]",
      "text/plain": [
       "<Figure size 640x480 with 1 Axes>"
      ]
     },
     "metadata": {},
     "output_type": "display_data"
    }
   ],
   "source": [
    "import numpy as np\n",
    "import matplotlib.pyplot as plt\n",
    "\n",
    "x = np.linspace(-7.5,7.5,151)\n",
    "y = 1.0/(1.0 + np.exp(-x))\n",
    "w, b = 2.0, -6.0\n",
    "z = 1.0/(1.0 + np.exp(-(w*x+b)))\n",
    "\n",
    "plt.plot(x,y,label=r\"$\\sigma(x)$\", color=\"red\")\n",
    "plt.plot(x,z,label=r\"$\\sigma(2 (x-3))$\", color=\"green\")\n",
    "plt.plot(0.0,0.5,'bo')\n",
    "plt.plot(3.0,0.5,'bo')\n",
    "plt.xlabel(r\"$x$\")\n",
    "plt.ylabel(r\"$\\sigma(x)$\",rotation=0)\n",
    "plt.legend()\n",
    "plt.grid()"
   ]
  },
  {
   "cell_type": "markdown",
   "id": "418f001b-4086-4954-b845-071b117a21e0",
   "metadata": {},
   "source": [
    "Some well-known properties of the **sigmoid function** ($\\sigma(x)$):\n",
    "* $\\displaystyle \\lim_{x\\to -\\infty} \\sigma(x) = 0 $\n",
    "* $\\displaystyle \\lim_{x\\to +\\infty} \\sigma(x) = 1 $\n",
    "* $\\displaystyle \\sigma(x=0) = \\frac{1}{2} $\n",
    "* $\\displaystyle \\frac{d \\sigma(x)}{dx} = \\sigma(x)(1-\\sigma(x))$"
   ]
  },
  {
   "cell_type": "markdown",
   "id": "d66d0c24-9716-4a70-8f00-4c5cab20c2a2",
   "metadata": {},
   "source": [
    "**Note:**\n",
    "* In neural nets, the activation function takes the argument $w.x+b$ instead of $x$,<br>\n",
    "  where:\n",
    "  - $w$ : **weight**, i.e. **scaling**\n",
    "  - $b$ : **bias**, i.e. **shift**\n",
    "* Until now, we only considered only scalar activation functions:<br>\n",
    "  $\\displaystyle f(w.x+b)$: $\\mathbb{R} \\rightarrow \\mathbb{R}$\n",
    "* In praxi, vector-valued versions are used:<br>\n",
    "  $\\displaystyle f(\\mathbf{W}.\\mathbf{x}+\\mathbf{b})$: $\\mathbb{R}^m \\rightarrow \\mathbb{R}^n$<br>\n",
    "  where:\n",
    "  - $\\mathbf{x} \\in \\mathbb{R}^m$\n",
    "  - $\\mathbf{b} \\in \\mathbb{R}^n$\n",
    "  - $\\mathbf{W} \\in \\mathbb{R}^{n \\times m}$\n",
    "* Let $\\mathbf{z} = \\displaystyle f(\\mathbf{W}.\\mathbf{x}+\\mathbf{b})$ then:<br>\n",
    "  $z_i = \\displaystyle f\\Big(\\sum_{j=1}^m W_{ij}.x_{j}+ b_i \\Big)$, and $i \\in \\{1,\\ldots,n\\}$"
   ]
  },
  {
   "cell_type": "markdown",
   "id": "d7a51bf6-39cf-412e-9cd4-0c6c28b5cfc8",
   "metadata": {},
   "source": [
    "### 2.Neural nets"
   ]
  },
  {
   "cell_type": "code",
   "execution_count": null,
   "id": "794b2b77-9605-4e31-a642-340318f0b84f",
   "metadata": {},
   "outputs": [],
   "source": []
  },
  {
   "cell_type": "code",
   "execution_count": null,
   "id": "0f85f375-fa9b-47ff-a2df-51d2036fc260",
   "metadata": {},
   "outputs": [],
   "source": []
  }
 ],
 "metadata": {
  "kernelspec": {
   "display_name": "Python 3 (ipykernel)",
   "language": "python",
   "name": "python3"
  },
  "language_info": {
   "codemirror_mode": {
    "name": "ipython",
    "version": 3
   },
   "file_extension": ".py",
   "mimetype": "text/x-python",
   "name": "python",
   "nbconvert_exporter": "python",
   "pygments_lexer": "ipython3",
   "version": "3.12.7"
  }
 },
 "nbformat": 4,
 "nbformat_minor": 5
}
